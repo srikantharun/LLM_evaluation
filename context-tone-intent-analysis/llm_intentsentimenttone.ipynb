{
  "nbformat": 4,
  "nbformat_minor": 0,
  "metadata": {
    "colab": {
      "provenance": []
    },
    "kernelspec": {
      "name": "python3",
      "display_name": "Python 3"
    },
    "language_info": {
      "name": "python"
    }
  },
  "cells": [
    {
      "cell_type": "code",
      "execution_count": 4,
      "metadata": {
        "colab": {
          "base_uri": "https://localhost:8080/"
        },
        "id": "rOXunKBzZRb-",
        "outputId": "aac940a3-074b-48ff-940f-10f8f8adac8c"
      },
      "outputs": [
        {
          "output_type": "stream",
          "name": "stdout",
          "text": [
            "\u001b[?25l   \u001b[90m\u2501\u2501\u2501\u2501\u2501\u2501\u2501\u2501\u2501\u2501\u2501\u2501\u2501\u2501\u2501\u2501\u2501\u2501\u2501\u2501\u2501\u2501\u2501\u2501\u2501\u2501\u2501\u2501\u2501\u2501\u2501\u2501\u2501\u2501\u2501\u2501\u2501\u2501\u2501\u2501\u001b[0m \u001b[32m0.0/491.2 kB\u001b[0m \u001b[31m?\u001b[0m eta \u001b[36m-:--:--\u001b[0m\r\u001b[2K   \u001b[91m\u2501\u2501\u2501\u2501\u2501\u2501\u2501\u2501\u2501\u2501\u2501\u2501\u2501\u2501\u2501\u2501\u2501\u2501\u2501\u2501\u2501\u2501\u2501\u2501\u2501\u2501\u001b[0m\u001b[91m\u2578\u001b[0m\u001b[90m\u2501\u2501\u2501\u2501\u2501\u2501\u2501\u2501\u2501\u2501\u2501\u2501\u2501\u001b[0m \u001b[32m327.7/491.2 kB\u001b[0m \u001b[31m9.6 MB/s\u001b[0m eta \u001b[36m0:00:01\u001b[0m\r\u001b[2K   \u001b[90m\u2501\u2501\u2501\u2501\u2501\u2501\u2501\u2501\u2501\u2501\u2501\u2501\u2501\u2501\u2501\u2501\u2501\u2501\u2501\u2501\u2501\u2501\u2501\u2501\u2501\u2501\u2501\u2501\u2501\u2501\u2501\u2501\u2501\u2501\u2501\u2501\u2501\u2501\u2501\u2501\u001b[0m \u001b[32m491.2/491.2 kB\u001b[0m \u001b[31m9.0 MB/s\u001b[0m eta \u001b[36m0:00:00\u001b[0m\n",
            "\u001b[?25h\u001b[?25l   \u001b[90m\u2501\u2501\u2501\u2501\u2501\u2501\u2501\u2501\u2501\u2501\u2501\u2501\u2501\u2501\u2501\u2501\u2501\u2501\u2501\u2501\u2501\u2501\u2501\u2501\u2501\u2501\u2501\u2501\u2501\u2501\u2501\u2501\u2501\u2501\u2501\u2501\u2501\u2501\u2501\u2501\u001b[0m \u001b[32m0.0/84.0 kB\u001b[0m \u001b[31m?\u001b[0m eta \u001b[36m-:--:--\u001b[0m\r\u001b[2K   \u001b[90m\u2501\u2501\u2501\u2501\u2501\u2501\u2501\u2501\u2501\u2501\u2501\u2501\u2501\u2501\u2501\u2501\u2501\u2501\u2501\u2501\u2501\u2501\u2501\u2501\u2501\u2501\u2501\u2501\u2501\u2501\u2501\u2501\u2501\u2501\u2501\u2501\u2501\u2501\u2501\u2501\u001b[0m \u001b[32m84.0/84.0 kB\u001b[0m \u001b[31m5.9 MB/s\u001b[0m eta \u001b[36m0:00:00\u001b[0m\n",
            "\u001b[?25h\u001b[?25l   \u001b[90m\u2501\u2501\u2501\u2501\u2501\u2501\u2501\u2501\u2501\u2501\u2501\u2501\u2501\u2501\u2501\u2501\u2501\u2501\u2501\u2501\u2501\u2501\u2501\u2501\u2501\u2501\u2501\u2501\u2501\u2501\u2501\u2501\u2501\u2501\u2501\u2501\u2501\u2501\u2501\u2501\u001b[0m \u001b[32m0.0/116.3 kB\u001b[0m \u001b[31m?\u001b[0m eta \u001b[36m-:--:--\u001b[0m\r\u001b[2K   \u001b[90m\u2501\u2501\u2501\u2501\u2501\u2501\u2501\u2501\u2501\u2501\u2501\u2501\u2501\u2501\u2501\u2501\u2501\u2501\u2501\u2501\u2501\u2501\u2501\u2501\u2501\u2501\u2501\u2501\u2501\u2501\u2501\u2501\u2501\u2501\u2501\u2501\u2501\u2501\u2501\u2501\u001b[0m \u001b[32m116.3/116.3 kB\u001b[0m \u001b[31m8.7 MB/s\u001b[0m eta \u001b[36m0:00:00\u001b[0m\n",
            "\u001b[?25h\u001b[?25l   \u001b[90m\u2501\u2501\u2501\u2501\u2501\u2501\u2501\u2501\u2501\u2501\u2501\u2501\u2501\u2501\u2501\u2501\u2501\u2501\u2501\u2501\u2501\u2501\u2501\u2501\u2501\u2501\u2501\u2501\u2501\u2501\u2501\u2501\u2501\u2501\u2501\u2501\u2501\u2501\u2501\u2501\u001b[0m \u001b[32m0.0/183.9 kB\u001b[0m \u001b[31m?\u001b[0m eta \u001b[36m-:--:--\u001b[0m\r\u001b[2K   \u001b[90m\u2501\u2501\u2501\u2501\u2501\u2501\u2501\u2501\u2501\u2501\u2501\u2501\u2501\u2501\u2501\u2501\u2501\u2501\u2501\u2501\u2501\u2501\u2501\u2501\u2501\u2501\u2501\u2501\u2501\u2501\u2501\u2501\u2501\u2501\u2501\u2501\u2501\u2501\u2501\u2501\u001b[0m \u001b[32m183.9/183.9 kB\u001b[0m \u001b[31m13.1 MB/s\u001b[0m eta \u001b[36m0:00:00\u001b[0m\n",
            "\u001b[?25h\u001b[?25l   \u001b[90m\u2501\u2501\u2501\u2501\u2501\u2501\u2501\u2501\u2501\u2501\u2501\u2501\u2501\u2501\u2501\u2501\u2501\u2501\u2501\u2501\u2501\u2501\u2501\u2501\u2501\u2501\u2501\u2501\u2501\u2501\u2501\u2501\u2501\u2501\u2501\u2501\u2501\u2501\u2501\u2501\u001b[0m \u001b[32m0.0/143.5 kB\u001b[0m \u001b[31m?\u001b[0m eta \u001b[36m-:--:--\u001b[0m\r\u001b[2K   \u001b[90m\u2501\u2501\u2501\u2501\u2501\u2501\u2501\u2501\u2501\u2501\u2501\u2501\u2501\u2501\u2501\u2501\u2501\u2501\u2501\u2501\u2501\u2501\u2501\u2501\u2501\u2501\u2501\u2501\u2501\u2501\u2501\u2501\u2501\u2501\u2501\u2501\u2501\u2501\u2501\u2501\u001b[0m \u001b[32m143.5/143.5 kB\u001b[0m \u001b[31m10.9 MB/s\u001b[0m eta \u001b[36m0:00:00\u001b[0m\n",
            "\u001b[?25h\u001b[?25l   \u001b[90m\u2501\u2501\u2501\u2501\u2501\u2501\u2501\u2501\u2501\u2501\u2501\u2501\u2501\u2501\u2501\u2501\u2501\u2501\u2501\u2501\u2501\u2501\u2501\u2501\u2501\u2501\u2501\u2501\u2501\u2501\u2501\u2501\u2501\u2501\u2501\u2501\u2501\u2501\u2501\u2501\u001b[0m \u001b[32m0.0/194.8 kB\u001b[0m \u001b[31m?\u001b[0m eta \u001b[36m-:--:--\u001b[0m\r\u001b[2K   \u001b[90m\u2501\u2501\u2501\u2501\u2501\u2501\u2501\u2501\u2501\u2501\u2501\u2501\u2501\u2501\u2501\u2501\u2501\u2501\u2501\u2501\u2501\u2501\u2501\u2501\u2501\u2501\u2501\u2501\u2501\u2501\u2501\u2501\u2501\u2501\u2501\u2501\u2501\u2501\u2501\u2501\u001b[0m \u001b[32m194.8/194.8 kB\u001b[0m \u001b[31m13.7 MB/s\u001b[0m eta \u001b[36m0:00:00\u001b[0m\n",
            "\u001b[?25h\u001b[31mERROR: pip's dependency resolver does not currently take into account all the packages that are installed. This behaviour is the source of the following dependency conflicts.\n",
            "gcsfs 2025.3.2 requires fsspec==2025.3.2, but you have fsspec 2024.12.0 which is incompatible.\u001b[0m\u001b[31m\n",
            "\u001b[0m"
          ]
        }
      ],
      "source": [
        "!pip install -q transformers datasets evaluate scikit-learn nltk matplotlib seaborn"
      ]
    },
    {
      "cell_type": "code",
      "source": [
        "import numpy as np\n",
        "import pandas as pd\n",
        "import matplotlib.pyplot as plt\n",
        "import seaborn as sns\n",
        "import torch\n",
        "import transformers\n",
        "import nltk\n",
        "from transformers import AutoModel, AutoTokenizer, AutoModelForSequenceClassification\n",
        "from transformers import Trainer, TrainingArguments\n",
        "from sklearn.metrics import accuracy_score, precision_recall_fscore_support\n",
        "from sklearn.model_selection import train_test_split\n",
        "from nltk.tokenize import word_tokenize\n",
        "from collections import Counter"
      ],
      "metadata": {
        "id": "xoJ3XDYLZTuq"
      },
      "execution_count": 5,
      "outputs": []
    },
    {
      "cell_type": "markdown",
      "source": [
        "## Check Versions"
      ],
      "metadata": {
        "id": "paXSd6UynFtH"
      }
    },
    {
      "cell_type": "code",
      "source": [
        "# Check versions and install dependencies\n",
        "print(f\"PyTorch version: {torch.__version__}\")\n",
        "print(f\"Transformers version: {transformers.__version__}\")"
      ],
      "metadata": {
        "id": "vqySk6NFZddS",
        "colab": {
          "base_uri": "https://localhost:8080/"
        },
        "outputId": "3a2bf28b-e06b-49fb-8ec7-55875741dff4"
      },
      "execution_count": 6,
      "outputs": [
        {
          "output_type": "stream",
          "name": "stdout",
          "text": [
            "PyTorch version: 2.6.0+cu124\n",
            "Transformers version: 4.50.3\n"
          ]
        }
      ]
    },
    {
      "cell_type": "markdown",
      "source": [
        "### Download NLTK resources"
      ],
      "metadata": {
        "id": "4w2LoWxYsjWd"
      }
    },
    {
      "cell_type": "code",
      "source": [
        "nltk.download('punkt')\n",
        "nltk.download('stopwords')\n",
        "nltk.download('wordnet')"
      ],
      "metadata": {
        "colab": {
          "base_uri": "https://localhost:8080/"
        },
        "id": "8lzf1Oensv-w",
        "outputId": "b7e1fb05-72c6-43fe-a742-f474d27f38e2"
      },
      "execution_count": 7,
      "outputs": [
        {
          "output_type": "stream",
          "name": "stderr",
          "text": [
            "[nltk_data] Downloading package punkt to /root/nltk_data...\n",
            "[nltk_data]   Unzipping tokenizers/punkt.zip.\n",
            "[nltk_data] Downloading package stopwords to /root/nltk_data...\n",
            "[nltk_data]   Unzipping corpora/stopwords.zip.\n",
            "[nltk_data] Downloading package wordnet to /root/nltk_data...\n"
          ]
        },
        {
          "output_type": "execute_result",
          "data": {
            "text/plain": [
              "True"
            ]
          },
          "metadata": {},
          "execution_count": 7
        }
      ]
    },
    {
      "cell_type": "markdown",
      "source": [
        "### Set device and perform context analysis"
      ],
      "metadata": {
        "id": "feCGMuNy5I_x"
      }
    },
    {
      "cell_type": "code",
      "source": [
        "device = torch.device(\"cuda\" if torch.cuda.is_available() else \"cpu\")\n",
        "print(f\"Using device: {device}\")\n",
        "\n",
        "class ContextAnalyzer:\n",
        "    def __init__(self, model_name=\"sentence-transformers/all-MiniLM-L6-v2\"):\n",
        "        self.tokenizer = AutoTokenizer.from_pretrained(model_name)\n",
        "        self.model = AutoModel.from_pretrained(model_name).to(device)\n",
        "        self.conversation_history = []\n",
        "        self.context_embeddings = []\n",
        "\n",
        "    def add_message(self, message, speaker=\"user\"):\n",
        "        \"\"\"Add a new message to the conversation history\"\"\"\n",
        "        self.conversation_history.append({\"text\": message, \"speaker\": speaker, \"timestamp\": pd.Timestamp.now()})\n",
        "\n",
        "    def get_conversation_history(self):\n",
        "        \"\"\"Return the full conversation history\"\"\"\n",
        "        return self.conversation_history\n",
        "\n",
        "    def extract_key_topics(self, text, top_n=5):\n",
        "        \"\"\"Extract key topics from text using simple keyword extraction\"\"\"\n",
        "        tokens = word_tokenize(text.lower())\n",
        "        # Remove stopwords\n",
        "        stopwords = set(nltk.corpus.stopwords.words('english'))\n",
        "        tokens = [token for token in tokens if token.isalpha() and token not in stopwords]\n",
        "\n",
        "        # Count word frequencies\n",
        "        word_freq = Counter(tokens)\n",
        "        return word_freq.most_common(top_n)\n",
        "\n",
        "    def get_embedding(self, text):\n",
        "        \"\"\"Get embedding for a text using the model\"\"\"\n",
        "        inputs = self.tokenizer(text, return_tensors=\"pt\", padding=True, truncation=True, max_length=512).to(device)\n",
        "        with torch.no_grad():\n",
        "            outputs = self.model(**inputs)\n",
        "\n",
        "        # Use mean pooling to get sentence embedding\n",
        "        token_embeddings = outputs.last_hidden_state\n",
        "        attention_mask = inputs[\"attention_mask\"]\n",
        "\n",
        "        # Mask padded tokens\n",
        "        input_mask_expanded = attention_mask.unsqueeze(-1).expand(token_embeddings.size()).float()\n",
        "        # Sum the masked embeddings\n",
        "        sum_embeddings = torch.sum(token_embeddings * input_mask_expanded, 1)\n",
        "        # Sum the mask\n",
        "        sum_mask = torch.clamp(input_mask_expanded.sum(1), min=1e-9)\n",
        "        # Get the mean embedding\n",
        "        embedding = sum_embeddings / sum_mask\n",
        "\n",
        "        return embedding.cpu().numpy()[0]\n",
        "\n",
        "    def update_context_embedding(self):\n",
        "        \"\"\"Update the context embedding based on recent conversation history\"\"\"\n",
        "        if not self.conversation_history:\n",
        "            return np.zeros(384)  # Default embedding size for the model\n",
        "\n",
        "        # Combine the last few messages\n",
        "        recent_messages = [msg[\"text\"] for msg in self.conversation_history[-5:]]\n",
        "        combined_text = \" \".join(recent_messages)\n",
        "\n",
        "        # Get embedding for the combined text\n",
        "        embedding = self.get_embedding(combined_text)\n",
        "        self.context_embeddings.append(embedding)\n",
        "\n",
        "        return embedding\n",
        "\n",
        "    def detect_topic_drift(self, threshold=0.7):\n",
        "        \"\"\"Detect if the topic has drifted significantly\"\"\"\n",
        "        if len(self.context_embeddings) < 2:\n",
        "            return False\n",
        "\n",
        "        # Compare the latest embedding with the previous one\n",
        "        latest = self.context_embeddings[-1]\n",
        "        previous = self.context_embeddings[-2]\n",
        "\n",
        "        # Compute cosine similarity\n",
        "        similarity = np.dot(latest, previous) / (np.linalg.norm(latest) * np.linalg.norm(previous))\n",
        "\n",
        "        return similarity < threshold  # Return True if drift detected\n",
        "\n",
        "    def summarize_context(self):\n",
        "        \"\"\"Summarize the current conversation context\"\"\"\n",
        "        if not self.conversation_history:\n",
        "            return \"No conversation history yet.\"\n",
        "\n",
        "        recent_messages = self.conversation_history[-5:]\n",
        "        topics = []\n",
        "\n",
        "        # Extract topics from recent messages\n",
        "        for msg in recent_messages:\n",
        "            msg_topics = self.extract_key_topics(msg[\"text\"], top_n=3)\n",
        "            topics.extend([topic for topic, _ in msg_topics])\n",
        "\n",
        "        # Get the most common topics\n",
        "        common_topics = Counter(topics).most_common(5)\n",
        "\n",
        "        return {\n",
        "            \"message_count\": len(self.conversation_history),\n",
        "            \"recent_speakers\": [msg[\"speaker\"] for msg in recent_messages],\n",
        "            \"key_topics\": [topic for topic, _ in common_topics],\n",
        "            \"topic_drift_detected\": self.detect_topic_drift() if len(self.context_embeddings) > 1 else False\n",
        "        }"
      ],
      "metadata": {
        "id": "bhfTSJBf5NLH",
        "outputId": "baa68fdf-036b-4928-fc99-0a8136b971b3",
        "colab": {
          "base_uri": "https://localhost:8080/"
        }
      },
      "execution_count": 11,
      "outputs": [
        {
          "output_type": "stream",
          "name": "stdout",
          "text": [
            "Using device: cpu\n"
          ]
        }
      ]
    },
    {
      "cell_type": "markdown",
      "source": [
        "### 2. Tone Detection"
      ],
      "metadata": {
        "id": "vECaOjv95_7Q"
      }
    },
    {
      "cell_type": "code",
      "source": [
        "class ToneDetector:\n",
        "    def __init__(self):\n",
        "        # Load pre-trained models for different aspects of tone\n",
        "        print(\"Loading sentiment analysis model...\")\n",
        "        self.sentiment_model = AutoModelForSequenceClassification.from_pretrained(\"distilbert-base-uncased-finetuned-sst-2-english\").to(device)\n",
        "        self.sentiment_tokenizer = AutoTokenizer.from_pretrained(\"distilbert-base-uncased-finetuned-sst-2-english\")\n",
        "\n",
        "        print(\"Loading emotion detection model...\")\n",
        "        # For emotion, we would typically use a model fine-tuned on emotion data\n",
        "        # Here we'll use a placeholder and describe the process\n",
        "        self.emotion_labels = [\"joy\", \"sadness\", \"anger\", \"fear\", \"surprise\", \"disgust\"]\n",
        "\n",
        "        # For formality, we'd normally use a specialized model or rule-based system\n",
        "        # Placeholder for demonstration\n",
        "        self.formal_words = set([\"therefore\", \"however\", \"consequently\", \"furthermore\", \"moreover\"])\n",
        "        self.informal_words = set([\"gonna\", \"wanna\", \"lol\", \"btw\", \"idk\", \"tbh\"])\n",
        "\n",
        "    def detect_sentiment(self, text):\n",
        "        \"\"\"Detect sentiment (positive/negative) in text\"\"\"\n",
        "        inputs = self.sentiment_tokenizer(text, return_tensors=\"pt\", padding=True, truncation=True).to(device)\n",
        "        with torch.no_grad():\n",
        "            outputs = self.sentiment_model(**inputs)\n",
        "\n",
        "        # Get predicted class (0 = negative, 1 = positive)\n",
        "        predicted_class = torch.argmax(outputs.logits, dim=1).item()\n",
        "        score = torch.softmax(outputs.logits, dim=1)[0][predicted_class].item()\n",
        "\n",
        "        return {\n",
        "            \"sentiment\": \"positive\" if predicted_class == 1 else \"negative\",\n",
        "            \"confidence\": score\n",
        "        }\n",
        "\n",
        "    def detect_emotion(self, text):\n",
        "        \"\"\"Detect dominant emotion in text\"\"\"\n",
        "        # In a real implementation, you would:\n",
        "        # 1. Use a model fine-tuned for emotion detection\n",
        "        # 2. Process the text through the model\n",
        "        # 3. Return the predicted emotion and confidence\n",
        "\n",
        "        # Placeholder implementation using keyword matching\n",
        "        text = text.lower()\n",
        "        emotion_scores = {\n",
        "            \"joy\": text.count(\"happy\") + text.count(\"glad\") + text.count(\"great\"),\n",
        "            \"sadness\": text.count(\"sad\") + text.count(\"upset\") + text.count(\"sorry\"),\n",
        "            \"anger\": text.count(\"angry\") + text.count(\"mad\") + text.count(\"frustrated\"),\n",
        "            \"fear\": text.count(\"afraid\") + text.count(\"scared\") + text.count(\"worried\"),\n",
        "            \"surprise\": text.count(\"wow\") + text.count(\"amazing\") + text.count(\"unexpected\"),\n",
        "            \"disgust\": text.count(\"gross\") + text.count(\"disgusting\") + text.count(\"awful\")\n",
        "        }\n",
        "\n",
        "        # Get the emotion with the highest score\n",
        "        dominant_emotion = max(emotion_scores, key=emotion_scores.get)\n",
        "        total = sum(emotion_scores.values())\n",
        "        confidence = emotion_scores[dominant_emotion] / total if total > 0 else 0\n",
        "\n",
        "        return {\n",
        "            \"emotion\": dominant_emotion,\n",
        "            \"confidence\": confidence if total > 0 else 0.1,\n",
        "            \"all_emotions\": emotion_scores\n",
        "        }\n",
        "\n",
        "    def assess_formality(self, text):\n",
        "        \"\"\"Assess the formality level of text\"\"\"\n",
        "        words = set(word.lower() for word in word_tokenize(text) if word.isalpha())\n",
        "\n",
        "        # Count formal and informal markers\n",
        "        formal_markers = words.intersection(self.formal_words)\n",
        "        informal_markers = words.intersection(self.informal_words)\n",
        "\n",
        "        # Look for informal contractions\n",
        "        contractions = text.count(\"'\")\n",
        "\n",
        "        # Check for exclamation marks, ellipses, etc.\n",
        "        exclamations = text.count(\"!\")\n",
        "        ellipses = text.count(\"...\")\n",
        "\n",
        "        # Calculate a formality score (higher = more formal)\n",
        "        formal_score = len(formal_markers) - len(informal_markers) - 0.5 * contractions - 0.5 * exclamations - 0.5 * ellipses\n",
        "\n",
        "        # Normalize to 0-1 range\n",
        "        formality = max(0, min(1, (formal_score + 5) / 10))\n",
        "\n",
        "        return {\n",
        "            \"formality\": formality,\n",
        "            \"formality_level\": \"high\" if formality > 0.7 else \"medium\" if formality > 0.3 else \"low\"\n",
        "        }\n",
        "\n",
        "    def detect_urgency(self, text):\n",
        "        \"\"\"Detect the urgency level in text\"\"\"\n",
        "        # Check for urgency markers\n",
        "        urgency_phrases = [\"asap\", \"urgent\", \"immediately\", \"as soon as possible\", \"emergency\", \"now\", \"right away\"]\n",
        "\n",
        "        # Count how many urgency markers are present\n",
        "        urgency_count = sum(1 for phrase in urgency_phrases if phrase in text.lower())\n",
        "\n",
        "        # Check for question marks and exclamation points\n",
        "        question_marks = text.count(\"?\")\n",
        "        exclamation_points = text.count(\"!\")\n",
        "\n",
        "        # Calculate urgency score\n",
        "        urgency_score = min(1.0, (urgency_count * 0.3) + (exclamation_points * 0.2) + (question_marks * 0.1))\n",
        "\n",
        "        return {\n",
        "            \"urgency\": urgency_score,\n",
        "            \"urgency_level\": \"high\" if urgency_score > 0.6 else \"medium\" if urgency_score > 0.3 else \"low\"\n",
        "        }\n",
        "\n",
        "    def analyze_tone(self, text):\n",
        "        \"\"\"Full tone analysis combining all metrics\"\"\"\n",
        "        sentiment = self.detect_sentiment(text)\n",
        "        emotion = self.detect_emotion(text)\n",
        "        formality = self.assess_formality(text)\n",
        "        urgency = self.detect_urgency(text)\n",
        "\n",
        "        return {\n",
        "            \"sentiment\": sentiment,\n",
        "            \"emotion\": emotion,\n",
        "            \"formality\": formality,\n",
        "            \"urgency\": urgency\n",
        "        }\n"
      ],
      "metadata": {
        "id": "oa77FyNt6F9s"
      },
      "execution_count": 12,
      "outputs": []
    },
    {
      "cell_type": "markdown",
      "source": [
        "### 3. Intent Classification"
      ],
      "metadata": {
        "id": "QjlRFTRq6L3q"
      }
    },
    {
      "cell_type": "code",
      "source": [
        "class IntentClassifier:\n",
        "    def __init__(self, model_path=None):\n",
        "        # For a production system, you would use a fine-tuned model\n",
        "        # For this notebook, we'll use a simpler approach\n",
        "        self.intents = {\n",
        "            \"greeting\": [\"hello\", \"hi\", \"hey\", \"good morning\", \"good afternoon\", \"good evening\"],\n",
        "            \"farewell\": [\"bye\", \"goodbye\", \"see you\", \"talk to you later\", \"have a good day\"],\n",
        "            \"question\": [\"what\", \"when\", \"where\", \"why\", \"how\", \"who\", \"can you\", \"could you\"],\n",
        "            \"request\": [\"please\", \"can you\", \"could you\", \"would you\", \"i need\", \"i want\"],\n",
        "            \"complaint\": [\"not working\", \"problem\", \"issue\", \"doesn't work\", \"unhappy\", \"disappointed\"],\n",
        "            \"thanks\": [\"thank\", \"thanks\", \"appreciate\", \"grateful\"]\n",
        "        }\n",
        "\n",
        "        # Load a pre-trained model if available\n",
        "        if model_path:\n",
        "            print(f\"Loading intent classifier from {model_path}\")\n",
        "            # In a real implementation, you would load your fine-tuned model here\n",
        "            # self.model = AutoModelForSequenceClassification.from_pretrained(model_path)\n",
        "            # self.tokenizer = AutoTokenizer.from_pretrained(model_path)\n",
        "\n",
        "    def classify_intent(self, text):\n",
        "        \"\"\"Classify the intent of the text\"\"\"\n",
        "        text = text.lower()\n",
        "\n",
        "        # Calculate scores for each intent\n",
        "        intent_scores = {}\n",
        "        for intent, keywords in self.intents.items():\n",
        "            score = sum(1 for keyword in keywords if keyword in text)\n",
        "            intent_scores[intent] = score\n",
        "\n",
        "        # Get the intent with the highest score\n",
        "        predicted_intent = max(intent_scores, key=intent_scores.get)\n",
        "        max_score = intent_scores[predicted_intent]\n",
        "\n",
        "        # Calculate confidence (simple version)\n",
        "        total = sum(intent_scores.values())\n",
        "        confidence = max_score / total if total > 0 else 0\n",
        "\n",
        "        # Check if the intent is unclear (low confidence)\n",
        "        is_fallback = confidence < 0.4 or max_score == 0\n",
        "\n",
        "        return {\n",
        "            \"intent\": \"fallback\" if is_fallback else predicted_intent,\n",
        "            \"confidence\": 0.1 if is_fallback else confidence,\n",
        "            \"all_intents\": intent_scores\n",
        "        }\n",
        "\n",
        "    def train_intent_classifier(self, texts, labels, model_name=\"distilbert-base-uncased\"):\n",
        "        \"\"\"Train an intent classifier on custom data\"\"\"\n",
        "        # This is a placeholder for the real training process\n",
        "        print(\"Training intent classifier...\")\n",
        "        print(f\"Training data: {len(texts)} examples\")\n",
        "\n",
        "        # In a real implementation, you would:\n",
        "        # 1. Prepare datasets using Hugging Face's datasets\n",
        "        # 2. Fine-tune a pre-trained model\n",
        "        # 3. Evaluate and save the model\n",
        "\n",
        "        # Pseudo-code for the training process:\n",
        "        \"\"\"\n",
        "        # Split data\n",
        "        train_texts, val_texts, train_labels, val_labels = train_test_split(texts, labels, test_size=0.2)\n",
        "\n",
        "        # Tokenize data\n",
        "        tokenizer = AutoTokenizer.from_pretrained(model_name)\n",
        "        train_encodings = tokenizer(train_texts, truncation=True, padding=True)\n",
        "        val_encodings = tokenizer(val_texts, truncation=True, padding=True)\n",
        "\n",
        "        # Create datasets\n",
        "        train_dataset = Dataset.from_dict({\n",
        "            'input_ids': train_encodings['input_ids'],\n",
        "            'attention_mask': train_encodings['attention_mask'],\n",
        "            'labels': train_labels\n",
        "        })\n",
        "        val_dataset = Dataset.from_dict({\n",
        "            'input_ids': val_encodings['input_ids'],\n",
        "            'attention_mask': val_encodings['attention_mask'],\n",
        "            'labels': val_labels\n",
        "        })\n",
        "\n",
        "        # Load model\n",
        "        model = AutoModelForSequenceClassification.from_pretrained(\n",
        "            model_name,\n",
        "            num_labels=len(set(labels))\n",
        "        )\n",
        "\n",
        "        # Define training arguments\n",
        "        training_args = TrainingArguments(\n",
        "            output_dir=\"./intent-classifier\",\n",
        "            num_train_epochs=3,\n",
        "            per_device_train_batch_size=16,\n",
        "            per_device_eval_batch_size=64,\n",
        "            warmup_steps=500,\n",
        "            weight_decay=0.01,\n",
        "            logging_dir=\"./logs\",\n",
        "        )\n",
        "\n",
        "        # Train model\n",
        "        trainer = Trainer(\n",
        "            model=model,\n",
        "            args=training_args,\n",
        "            train_dataset=train_dataset,\n",
        "            eval_dataset=val_dataset\n",
        "        )\n",
        "\n",
        "        trainer.train()\n",
        "\n",
        "        # Save model\n",
        "        model.save_pretrained(\"./intent-classifier\")\n",
        "        tokenizer.save_pretrained(\"./intent-classifier\")\n",
        "        \"\"\"\n",
        "\n",
        "        return \"Model trained and saved to ./intent-classifier\"\n"
      ],
      "metadata": {
        "id": "INnyMIY76SH_"
      },
      "execution_count": 13,
      "outputs": []
    },
    {
      "cell_type": "markdown",
      "source": [
        "### 4. Response Generation"
      ],
      "metadata": {
        "id": "m1Ndzr056gzo"
      }
    },
    {
      "cell_type": "code",
      "source": [
        "class ResponseGenerator:\n",
        "    def __init__(self):\n",
        "        # Initialize response templates\n",
        "        self.response_templates = {\n",
        "            \"greeting\": [\n",
        "                \"Hello! How can I help you today?\",\n",
        "                \"Hi there! What can I do for you?\",\n",
        "                \"Greetings! How may I assist you?\"\n",
        "            ],\n",
        "            \"farewell\": [\n",
        "                \"Goodbye! Have a great day!\",\n",
        "                \"See you later! Feel free to return if you need more help.\",\n",
        "                \"Farewell! Thank you for chatting with me.\"\n",
        "            ],\n",
        "            \"question\": [\n",
        "                \"Let me find that information for you.\",\n",
        "                \"I'll look into that for you.\",\n",
        "                \"Here's what I found regarding your question:\"\n",
        "            ],\n",
        "            \"request\": [\n",
        "                \"I'll help you with that request.\",\n",
        "                \"Let me take care of that for you.\",\n",
        "                \"I'd be happy to assist with your request.\"\n",
        "            ],\n",
        "            \"complaint\": [\n",
        "                \"I'm sorry to hear about this issue. Let me help resolve it.\",\n",
        "                \"I apologize for the inconvenience. Let's fix this together.\",\n",
        "                \"Thank you for bringing this to our attention. Let's address this issue.\"\n",
        "            ],\n",
        "            \"thanks\": [\n",
        "                \"You're welcome! Is there anything else I can help with?\",\n",
        "                \"Happy to help! Let me know if you need anything else.\",\n",
        "                \"My pleasure! Don't hesitate to ask if you need more assistance.\"\n",
        "            ],\n",
        "            \"fallback\": [\n",
        "                \"I'm not quite sure what you're asking. Could you please rephrase?\",\n",
        "                \"I didn't catch that. Can you clarify what you need help with?\",\n",
        "                \"I'm still learning. Could you explain what you're looking for?\"\n",
        "            ]\n",
        "        }\n",
        "\n",
        "        # User-specific information for personalization\n",
        "        self.user_info = {}\n",
        "\n",
        "    def add_user_info(self, user_id, key, value):\n",
        "        \"\"\"Add user-specific information for personalization\"\"\"\n",
        "        if user_id not in self.user_info:\n",
        "            self.user_info[user_id] = {}\n",
        "\n",
        "        self.user_info[user_id][key] = value\n",
        "\n",
        "    def get_user_info(self, user_id):\n",
        "        \"\"\"Get all information stored for a user\"\"\"\n",
        "        return self.user_info.get(user_id, {})\n",
        "\n",
        "    def fill_slots(self, template, user_id=None, **kwargs):\n",
        "        \"\"\"Fill in template slots with user information and other parameters\"\"\"\n",
        "        # Start with the template\n",
        "        response = template\n",
        "\n",
        "        # Replace slots with user information if available\n",
        "        if user_id and user_id in self.user_info:\n",
        "            for key, value in self.user_info[user_id].items():\n",
        "                response = response.replace(f\"{{{key}}}\", str(value))\n",
        "\n",
        "        # Replace slots with provided parameters\n",
        "        for key, value in kwargs.items():\n",
        "            response = response.replace(f\"{{{key}}}\", str(value))\n",
        "\n",
        "        return response\n",
        "\n",
        "    def generate_response(self, intent, tone=None, user_id=None, **kwargs):\n",
        "        \"\"\"Generate a response based on intent and tone\"\"\"\n",
        "        # Get templates for the intent\n",
        "        templates = self.response_templates.get(intent, self.response_templates[\"fallback\"])\n",
        "\n",
        "        # Select a template (randomly for variety)\n",
        "        import random\n",
        "        template = random.choice(templates)\n",
        "\n",
        "        # Fill in any slots in the template\n",
        "        response = self.fill_slots(template, user_id, **kwargs)\n",
        "\n",
        "        # Adjust response based on tone if provided\n",
        "        if tone:\n",
        "            # For brevity, we'll just handle a few tone adjustments\n",
        "            if tone.get(\"formality\", {}).get(\"formality_level\") == \"high\":\n",
        "                # Make more formal\n",
        "                response = response.replace(\"Hi\", \"Greetings\").replace(\"Hey\", \"Hello\")\n",
        "\n",
        "            if tone.get(\"urgency\", {}).get(\"urgency_level\") == \"high\":\n",
        "                # Add urgency markers\n",
        "                response = \"Urgent: \" + response\n",
        "\n",
        "            if tone.get(\"sentiment\", {}).get(\"sentiment\") == \"negative\":\n",
        "                # Add empathy for negative sentiment\n",
        "                response = \"I understand your concern. \" + response\n",
        "\n",
        "        return response\n",
        "\n",
        "    def add_custom_template(self, intent, template):\n",
        "        \"\"\"Add a custom response template for an intent\"\"\"\n",
        "        if intent not in self.response_templates:\n",
        "            self.response_templates[intent] = []\n",
        "\n",
        "        self.response_templates[intent].append(template)"
      ],
      "metadata": {
        "id": "QJ05NIg06kuG"
      },
      "execution_count": 14,
      "outputs": []
    },
    {
      "cell_type": "markdown",
      "source": [
        "### 5. Integrated System\n"
      ],
      "metadata": {
        "id": "uksX_Xlv6qvs"
      }
    },
    {
      "cell_type": "code",
      "source": [
        "class ConversationSystem:\n",
        "    def __init__(self):\n",
        "        print(\"Initializing system components...\")\n",
        "        self.context_analyzer = ContextAnalyzer()\n",
        "        self.tone_detector = ToneDetector()\n",
        "        self.intent_classifier = IntentClassifier()\n",
        "        self.response_generator = ResponseGenerator()\n",
        "\n",
        "    def process_message(self, message, user_id=None):\n",
        "        \"\"\"Process a user message and generate a response\"\"\"\n",
        "        # 1. Add message to context\n",
        "        self.context_analyzer.add_message(message, speaker=\"user\")\n",
        "\n",
        "        # 2. Update context embedding\n",
        "        self.context_analyzer.update_context_embedding()\n",
        "\n",
        "        # 3. Analyze tone\n",
        "        tone_analysis = self.tone_detector.analyze_tone(message)\n",
        "\n",
        "        # 4. Classify intent\n",
        "        intent_analysis = self.intent_classifier.classify_intent(message)\n",
        "\n",
        "        # 5. Generate response\n",
        "        response = self.response_generator.generate_response(\n",
        "            intent_analysis[\"intent\"],\n",
        "            tone=tone_analysis,\n",
        "            user_id=user_id\n",
        "        )\n",
        "\n",
        "        # 6. Add response to context\n",
        "        self.context_analyzer.add_message(response, speaker=\"system\")\n",
        "\n",
        "        # 7. Return results\n",
        "        return {\n",
        "            \"input_message\": message,\n",
        "            \"context_summary\": self.context_analyzer.summarize_context(),\n",
        "            \"tone_analysis\": tone_analysis,\n",
        "            \"intent_analysis\": intent_analysis,\n",
        "            \"response\": response\n",
        "        }\n",
        "\n",
        "    def demo_conversation(self, messages):\n",
        "        \"\"\"Run a demonstration conversation with a list of messages\"\"\"\n",
        "        results = []\n",
        "\n",
        "        for i, message in enumerate(messages):\n",
        "            print(f\"\\nProcessing message {i+1}: '{message}'\")\n",
        "            result = self.process_message(message, user_id=\"demo_user\")\n",
        "            results.append(result)\n",
        "\n",
        "            print(f\"Intent: {result['intent_analysis']['intent']} (confidence: {result['intent_analysis']['confidence']:.2f})\")\n",
        "            print(f\"Tone: {result['tone_analysis']['sentiment']['sentiment']} | {result['tone_analysis']['emotion']['emotion']} | {result['tone_analysis']['formality']['formality_level']}\")\n",
        "            print(f\"Response: {result['response']}\")\n",
        "\n",
        "        return results"
      ],
      "metadata": {
        "id": "VASRa_2i6vuP"
      },
      "execution_count": 15,
      "outputs": []
    },
    {
      "cell_type": "markdown",
      "source": [
        "### 6. Evaluation and Visualization"
      ],
      "metadata": {
        "id": "eldFwPfP60rh"
      }
    },
    {
      "cell_type": "code",
      "source": [
        "def plot_intent_confidence(results):\n",
        "    \"\"\"Plot intent confidence for a conversation\"\"\"\n",
        "    intents = [r[\"intent_analysis\"][\"intent\"] for r in results]\n",
        "    confidences = [r[\"intent_analysis\"][\"confidence\"] for r in results]\n",
        "\n",
        "    plt.figure(figsize=(10, 6))\n",
        "    plt.bar(range(len(intents)), confidences, color='skyblue')\n",
        "    plt.xticks(range(len(intents)), intents, rotation=45)\n",
        "    plt.ylim(0, 1.0)\n",
        "    plt.title(\"Intent Classification Confidence\")\n",
        "    plt.xlabel(\"Detected Intent\")\n",
        "    plt.ylabel(\"Confidence Score\")\n",
        "    plt.tight_layout()\n",
        "    plt.show()\n",
        "\n",
        "def plot_tone_analysis(results):\n",
        "    \"\"\"Plot tone analysis for a conversation\"\"\"\n",
        "    # Extract sentiment and emotion\n",
        "    sentiments = [1 if r[\"tone_analysis\"][\"sentiment\"][\"sentiment\"] == \"positive\" else 0 for r in results]\n",
        "    emotions = [r[\"tone_analysis\"][\"emotion\"][\"emotion\"] for r in results]\n",
        "    formality = [r[\"tone_analysis\"][\"formality\"][\"formality\"] for r in results]\n",
        "    urgency = [r[\"tone_analysis\"][\"urgency\"][\"urgency\"] for r in results]\n",
        "\n",
        "    # Create index for messages\n",
        "    message_idx = [f\"Msg {i+1}\" for i in range(len(results))]\n",
        "\n",
        "    # Create a figure with multiple subplots\n",
        "    fig, axs = plt.subplots(2, 2, figsize=(15, 10))\n",
        "\n",
        "    # Plot sentiment\n",
        "    axs[0, 0].plot(message_idx, sentiments, 'o-', color='green')\n",
        "    axs[0, 0].set_ylim(-0.1, 1.1)\n",
        "    axs[0, 0].set_title(\"Sentiment (1=Positive, 0=Negative)\")\n",
        "    axs[0, 0].set_xticks(range(len(message_idx)))\n",
        "    axs[0, 0].set_xticklabels(message_idx, rotation=45)\n",
        "\n",
        "    # Plot emotions\n",
        "    unique_emotions = list(set(emotions))\n",
        "    emotion_values = [[1 if e == emotion else 0 for e in emotions] for emotion in unique_emotions]\n",
        "\n",
        "    for i, emotion in enumerate(unique_emotions):\n",
        "        axs[0, 1].plot(message_idx, emotion_values[i], 'o-', label=emotion)\n",
        "\n",
        "    axs[0, 1].set_title(\"Detected Emotions\")\n",
        "    axs[0, 1].set_xticks(range(len(message_idx)))\n",
        "    axs[0, 1].set_xticklabels(message_idx, rotation=45)\n",
        "    axs[0, 1].legend()\n",
        "\n",
        "    # Plot formality\n",
        "    axs[1, 0].plot(message_idx, formality, 'o-', color='purple')\n",
        "    axs[1, 0].set_ylim(0, 1.0)\n",
        "    axs[1, 0].set_title(\"Formality Level\")\n",
        "    axs[1, 0].set_xticks(range(len(message_idx)))\n",
        "    axs[1, 0].set_xticklabels(message_idx, rotation=45)\n",
        "\n",
        "    # Plot urgency\n",
        "    axs[1, 1].plot(message_idx, urgency, 'o-', color='red')\n",
        "    axs[1, 1].set_ylim(0, 1.0)\n",
        "    axs[1, 1].set_title(\"Urgency Level\")\n",
        "    axs[1, 1].set_xticks(range(len(message_idx)))\n",
        "    axs[1, 1].set_xticklabels(message_idx, rotation=45)\n",
        "\n",
        "    plt.tight_layout()\n",
        "    plt.show()"
      ],
      "metadata": {
        "id": "xSjfOG_R666R"
      },
      "execution_count": 16,
      "outputs": []
    },
    {
      "cell_type": "markdown",
      "source": [
        "### Additional downloads for NLTK"
      ],
      "metadata": {
        "id": "hqNXOlvV7vfD"
      }
    },
    {
      "cell_type": "code",
      "source": [
        "import nltk\n",
        "nltk.download('punkt')\n",
        "nltk.download('stopwords')\n",
        "nltk.download('wordnet')\n",
        "# Also add these to be safe\n",
        "nltk.download('averaged_perceptron_tagger')\n",
        "nltk.download('maxent_ne_chunker')\n",
        "nltk.download('words')\n",
        "nltk.download('punkt_tab')"
      ],
      "metadata": {
        "id": "aks1-rgr70YD",
        "outputId": "7d82ddb8-bea2-40aa-df67-dc3fc2fa11fb",
        "colab": {
          "base_uri": "https://localhost:8080/"
        }
      },
      "execution_count": 20,
      "outputs": [
        {
          "output_type": "stream",
          "name": "stderr",
          "text": [
            "[nltk_data] Downloading package punkt to /root/nltk_data...\n",
            "[nltk_data]   Package punkt is already up-to-date!\n",
            "[nltk_data] Downloading package stopwords to /root/nltk_data...\n",
            "[nltk_data]   Package stopwords is already up-to-date!\n",
            "[nltk_data] Downloading package wordnet to /root/nltk_data...\n",
            "[nltk_data]   Package wordnet is already up-to-date!\n",
            "[nltk_data] Downloading package averaged_perceptron_tagger to\n",
            "[nltk_data]     /root/nltk_data...\n",
            "[nltk_data]   Package averaged_perceptron_tagger is already up-to-\n",
            "[nltk_data]       date!\n",
            "[nltk_data] Downloading package maxent_ne_chunker to\n",
            "[nltk_data]     /root/nltk_data...\n",
            "[nltk_data]   Package maxent_ne_chunker is already up-to-date!\n",
            "[nltk_data] Downloading package words to /root/nltk_data...\n",
            "[nltk_data]   Package words is already up-to-date!\n",
            "[nltk_data] Downloading package punkt_tab to /root/nltk_data...\n",
            "[nltk_data]   Unzipping tokenizers/punkt_tab.zip.\n"
          ]
        },
        {
          "output_type": "execute_result",
          "data": {
            "text/plain": [
              "True"
            ]
          },
          "metadata": {},
          "execution_count": 20
        }
      ]
    },
    {
      "cell_type": "markdown",
      "source": [
        "### 7. Main Demo"
      ],
      "metadata": {
        "id": "kFt1qhDy7FTh"
      }
    },
    {
      "cell_type": "code",
      "source": [
        "def main():\n",
        "    print(\"Initializing the Conversation Analysis System...\")\n",
        "    system = ConversationSystem()\n",
        "\n",
        "    print(\"\\nRunning demonstration with sample conversation...\")\n",
        "    demo_messages = [\n",
        "        \"Hi there! Can you help me with something?\",\n",
        "        \"I need to know how to reset my password ASAP!\",\n",
        "        \"This is really frustrating, I've been locked out for hours.\",\n",
        "        \"Thank you for your help, I appreciate it.\",\n",
        "        \"By the way, what other security features should I be using?\",\n",
        "        \"Ok, thanks again for all your help. Have a good day!\"\n",
        "    ]\n",
        "\n",
        "    results = system.demo_conversation(demo_messages)\n",
        "\n",
        "    print(\"\\nGenerating visualizations...\")\n",
        "    plot_intent_confidence(results)\n",
        "    plot_tone_analysis(results)\n",
        "\n",
        "    print(\"\\nDemo complete!\")\n",
        "\n",
        "# Run the main demo if this notebook is executed\n",
        "if __name__ == \"__main__\":\n",
        "    main()"
      ],
      "metadata": {
        "id": "1kmkAXMJ7HB9",
        "outputId": "a4eda601-089d-491e-9dc4-42ce14cc463f",
        "colab": {
          "base_uri": "https://localhost:8080/",
          "height": 1000
        }
      },
      "execution_count": 21,
      "outputs": [
        {
          "output_type": "stream",
          "name": "stdout",
          "text": [
            "Initializing the Conversation Analysis System...\n",
            "Initializing system components...\n",
            "Loading sentiment analysis model...\n",
            "Loading emotion detection model...\n",
            "\n",
            "Running demonstration with sample conversation...\n",
            "\n",
            "Processing message 1: 'Hi there! Can you help me with something?'\n",
            "Intent: fallback (confidence: 0.10)\n",
            "Tone: positive | joy | medium\n",
            "Response: I'm still learning. Could you explain what you're looking for?\n",
            "\n",
            "Processing message 2: 'I need to know how to reset my password ASAP!'\n",
            "Intent: question (confidence: 0.50)\n",
            "Tone: negative | joy | medium\n",
            "Response: I understand your concern. Urgent: Let me find that information for you.\n",
            "\n",
            "Processing message 3: 'This is really frustrating, I've been locked out for hours.'\n",
            "Intent: greeting (confidence: 1.00)\n",
            "Tone: negative | joy | medium\n",
            "Response: I understand your concern. Hi there! What can I do for you?\n",
            "\n",
            "Processing message 4: 'Thank you for your help, I appreciate it.'\n",
            "Intent: thanks (confidence: 1.00)\n",
            "Tone: positive | joy | medium\n",
            "Response: Happy to help! Let me know if you need anything else.\n",
            "\n",
            "Processing message 5: 'By the way, what other security features should I be using?'\n",
            "Intent: question (confidence: 1.00)\n",
            "Tone: negative | joy | medium\n",
            "Response: I understand your concern. Here's what I found regarding your question:\n",
            "\n",
            "Processing message 6: 'Ok, thanks again for all your help. Have a good day!'\n",
            "Intent: thanks (confidence: 0.67)\n",
            "Tone: positive | joy | medium\n",
            "Response: Happy to help! Let me know if you need anything else.\n",
            "\n",
            "Generating visualizations...\n"
          ]
        },
        {
          "output_type": "display_data",
          "data": {
            "text/plain": [
              "<Figure size 1000x600 with 1 Axes>"
            ],
            "image/png": "[encoded data removed]"
          },
          "metadata": {}
        },
        {
          "output_type": "display_data",
          "data": {
            "text/plain": [
              "<Figure size 1500x1000 with 4 Axes>"
            ],
            "image/png": "[encoded data removed]"
          },
          "metadata": {}
        },
        {
          "output_type": "stream",
          "name": "stdout",
          "text": [
            "\n",
            "Demo complete!\n"
          ]
        }
      ]
    }
  ]
}
