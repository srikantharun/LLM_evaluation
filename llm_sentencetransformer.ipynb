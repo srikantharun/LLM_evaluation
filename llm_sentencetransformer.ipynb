{
  "nbformat": 4,
  "nbformat_minor": 0,
  "metadata": {
    "colab": {
      "provenance": []
    },
    "kernelspec": {
      "name": "python3",
      "display_name": "Python 3"
    },
    "language_info": {
      "name": "python"
    }
  },
  "cells": [
    {
      "cell_type": "code",
      "execution_count": 1,
      "metadata": {
        "colab": {
          "base_uri": "https://localhost:8080/"
        },
        "id": "rOXunKBzZRb-",
        "outputId": "09bbaae9-9a4d-4ba2-e872-221a8d1122e9"
      },
      "outputs": [
        {
          "output_type": "stream",
          "name": "stdout",
          "text": [
            "Requirement already satisfied: sentence-transformers in /usr/local/lib/python3.11/dist-packages (3.4.1)\n",
            "Requirement already satisfied: transformers<5.0.0,>=4.41.0 in /usr/local/lib/python3.11/dist-packages (from sentence-transformers) (4.50.3)\n",
            "Requirement already satisfied: tqdm in /usr/local/lib/python3.11/dist-packages (from sentence-transformers) (4.67.1)\n",
            "Requirement already satisfied: torch>=1.11.0 in /usr/local/lib/python3.11/dist-packages (from sentence-transformers) (2.6.0+cu124)\n",
            "Requirement already satisfied: scikit-learn in /usr/local/lib/python3.11/dist-packages (from sentence-transformers) (1.6.1)\n",
            "Requirement already satisfied: scipy in /usr/local/lib/python3.11/dist-packages (from sentence-transformers) (1.14.1)\n",
            "Requirement already satisfied: huggingface-hub>=0.20.0 in /usr/local/lib/python3.11/dist-packages (from sentence-transformers) (0.30.1)\n",
            "Requirement already satisfied: Pillow in /usr/local/lib/python3.11/dist-packages (from sentence-transformers) (11.1.0)\n",
            "Requirement already satisfied: filelock in /usr/local/lib/python3.11/dist-packages (from huggingface-hub>=0.20.0->sentence-transformers) (3.18.0)\n",
            "Requirement already satisfied: fsspec>=2023.5.0 in /usr/local/lib/python3.11/dist-packages (from huggingface-hub>=0.20.0->sentence-transformers) (2025.3.2)\n",
            "Requirement already satisfied: packaging>=20.9 in /usr/local/lib/python3.11/dist-packages (from huggingface-hub>=0.20.0->sentence-transformers) (24.2)\n",
            "Requirement already satisfied: pyyaml>=5.1 in /usr/local/lib/python3.11/dist-packages (from huggingface-hub>=0.20.0->sentence-transformers) (6.0.2)\n",
            "Requirement already satisfied: requests in /usr/local/lib/python3.11/dist-packages (from huggingface-hub>=0.20.0->sentence-transformers) (2.32.3)\n",
            "Requirement already satisfied: typing-extensions>=3.7.4.3 in /usr/local/lib/python3.11/dist-packages (from huggingface-hub>=0.20.0->sentence-transformers) (4.13.1)\n",
            "Requirement already satisfied: networkx in /usr/local/lib/python3.11/dist-packages (from torch>=1.11.0->sentence-transformers) (3.4.2)\n",
            "Requirement already satisfied: jinja2 in /usr/local/lib/python3.11/dist-packages (from torch>=1.11.0->sentence-transformers) (3.1.6)\n",
            "Collecting nvidia-cuda-nvrtc-cu12==12.4.127 (from torch>=1.11.0->sentence-transformers)\n",
            "  Downloading nvidia_cuda_nvrtc_cu12-12.4.127-py3-none-manylinux2014_x86_64.whl.metadata (1.5 kB)\n",
            "Collecting nvidia-cuda-runtime-cu12==12.4.127 (from torch>=1.11.0->sentence-transformers)\n",
            "  Downloading nvidia_cuda_runtime_cu12-12.4.127-py3-none-manylinux2014_x86_64.whl.metadata (1.5 kB)\n",
            "Collecting nvidia-cuda-cupti-cu12==12.4.127 (from torch>=1.11.0->sentence-transformers)\n",
            "  Downloading nvidia_cuda_cupti_cu12-12.4.127-py3-none-manylinux2014_x86_64.whl.metadata (1.6 kB)\n",
            "Collecting nvidia-cudnn-cu12==9.1.0.70 (from torch>=1.11.0->sentence-transformers)\n",
            "  Downloading nvidia_cudnn_cu12-9.1.0.70-py3-none-manylinux2014_x86_64.whl.metadata (1.6 kB)\n",
            "Collecting nvidia-cublas-cu12==12.4.5.8 (from torch>=1.11.0->sentence-transformers)\n",
            "  Downloading nvidia_cublas_cu12-12.4.5.8-py3-none-manylinux2014_x86_64.whl.metadata (1.5 kB)\n",
            "Collecting nvidia-cufft-cu12==11.2.1.3 (from torch>=1.11.0->sentence-transformers)\n",
            "  Downloading nvidia_cufft_cu12-11.2.1.3-py3-none-manylinux2014_x86_64.whl.metadata (1.5 kB)\n",
            "Collecting nvidia-curand-cu12==10.3.5.147 (from torch>=1.11.0->sentence-transformers)\n",
            "  Downloading nvidia_curand_cu12-10.3.5.147-py3-none-manylinux2014_x86_64.whl.metadata (1.5 kB)\n",
            "Collecting nvidia-cusolver-cu12==11.6.1.9 (from torch>=1.11.0->sentence-transformers)\n",
            "  Downloading nvidia_cusolver_cu12-11.6.1.9-py3-none-manylinux2014_x86_64.whl.metadata (1.6 kB)\n",
            "Collecting nvidia-cusparse-cu12==12.3.1.170 (from torch>=1.11.0->sentence-transformers)\n",
            "  Downloading nvidia_cusparse_cu12-12.3.1.170-py3-none-manylinux2014_x86_64.whl.metadata (1.6 kB)\n",
            "Requirement already satisfied: nvidia-cusparselt-cu12==0.6.2 in /usr/local/lib/python3.11/dist-packages (from torch>=1.11.0->sentence-transformers) (0.6.2)\n",
            "Requirement already satisfied: nvidia-nccl-cu12==2.21.5 in /usr/local/lib/python3.11/dist-packages (from torch>=1.11.0->sentence-transformers) (2.21.5)\n",
            "Requirement already satisfied: nvidia-nvtx-cu12==12.4.127 in /usr/local/lib/python3.11/dist-packages (from torch>=1.11.0->sentence-transformers) (12.4.127)\n",
            "Collecting nvidia-nvjitlink-cu12==12.4.127 (from torch>=1.11.0->sentence-transformers)\n",
            "  Downloading nvidia_nvjitlink_cu12-12.4.127-py3-none-manylinux2014_x86_64.whl.metadata (1.5 kB)\n",
            "Requirement already satisfied: triton==3.2.0 in /usr/local/lib/python3.11/dist-packages (from torch>=1.11.0->sentence-transformers) (3.2.0)\n",
            "Requirement already satisfied: sympy==1.13.1 in /usr/local/lib/python3.11/dist-packages (from torch>=1.11.0->sentence-transformers) (1.13.1)\n",
            "Requirement already satisfied: mpmath<1.4,>=1.1.0 in /usr/local/lib/python3.11/dist-packages (from sympy==1.13.1->torch>=1.11.0->sentence-transformers) (1.3.0)\n",
            "Requirement already satisfied: numpy>=1.17 in /usr/local/lib/python3.11/dist-packages (from transformers<5.0.0,>=4.41.0->sentence-transformers) (2.0.2)\n",
            "Requirement already satisfied: regex!=2019.12.17 in /usr/local/lib/python3.11/dist-packages (from transformers<5.0.0,>=4.41.0->sentence-transformers) (2024.11.6)\n",
            "Requirement already satisfied: tokenizers<0.22,>=0.21 in /usr/local/lib/python3.11/dist-packages (from transformers<5.0.0,>=4.41.0->sentence-transformers) (0.21.1)\n",
            "Requirement already satisfied: safetensors>=0.4.3 in /usr/local/lib/python3.11/dist-packages (from transformers<5.0.0,>=4.41.0->sentence-transformers) (0.5.3)\n",
            "Requirement already satisfied: joblib>=1.2.0 in /usr/local/lib/python3.11/dist-packages (from scikit-learn->sentence-transformers) (1.4.2)\n",
            "Requirement already satisfied: threadpoolctl>=3.1.0 in /usr/local/lib/python3.11/dist-packages (from scikit-learn->sentence-transformers) (3.6.0)\n",
            "Requirement already satisfied: MarkupSafe>=2.0 in /usr/local/lib/python3.11/dist-packages (from jinja2->torch>=1.11.0->sentence-transformers) (3.0.2)\n",
            "Requirement already satisfied: charset-normalizer<4,>=2 in /usr/local/lib/python3.11/dist-packages (from requests->huggingface-hub>=0.20.0->sentence-transformers) (3.4.1)\n",
            "Requirement already satisfied: idna<4,>=2.5 in /usr/local/lib/python3.11/dist-packages (from requests->huggingface-hub>=0.20.0->sentence-transformers) (3.10)\n",
            "Requirement already satisfied: urllib3<3,>=1.21.1 in /usr/local/lib/python3.11/dist-packages (from requests->huggingface-hub>=0.20.0->sentence-transformers) (2.3.0)\n",
            "Requirement already satisfied: certifi>=2017.4.17 in /usr/local/lib/python3.11/dist-packages (from requests->huggingface-hub>=0.20.0->sentence-transformers) (2025.1.31)\n",
            "Downloading nvidia_cublas_cu12-12.4.5.8-py3-none-manylinux2014_x86_64.whl (363.4 MB)\n",
            "\u001b[2K   \u001b[90m\u2501\u2501\u2501\u2501\u2501\u2501\u2501\u2501\u2501\u2501\u2501\u2501\u2501\u2501\u2501\u2501\u2501\u2501\u2501\u2501\u2501\u2501\u2501\u2501\u2501\u2501\u2501\u2501\u2501\u2501\u2501\u2501\u2501\u2501\u2501\u2501\u2501\u2501\u2501\u2501\u001b[0m \u001b[32m363.4/363.4 MB\u001b[0m \u001b[31m3.9 MB/s\u001b[0m eta \u001b[36m0:00:00\u001b[0m\n",
            "\u001b[?25hDownloading nvidia_cuda_cupti_cu12-12.4.127-py3-none-manylinux2014_x86_64.whl (13.8 MB)\n",
            "\u001b[2K   \u001b[90m\u2501\u2501\u2501\u2501\u2501\u2501\u2501\u2501\u2501\u2501\u2501\u2501\u2501\u2501\u2501\u2501\u2501\u2501\u2501\u2501\u2501\u2501\u2501\u2501\u2501\u2501\u2501\u2501\u2501\u2501\u2501\u2501\u2501\u2501\u2501\u2501\u2501\u2501\u2501\u2501\u001b[0m \u001b[32m13.8/13.8 MB\u001b[0m \u001b[31m58.5 MB/s\u001b[0m eta \u001b[36m0:00:00\u001b[0m\n",
            "\u001b[?25hDownloading nvidia_cuda_nvrtc_cu12-12.4.127-py3-none-manylinux2014_x86_64.whl (24.6 MB)\n",
            "\u001b[2K   \u001b[90m\u2501\u2501\u2501\u2501\u2501\u2501\u2501\u2501\u2501\u2501\u2501\u2501\u2501\u2501\u2501\u2501\u2501\u2501\u2501\u2501\u2501\u2501\u2501\u2501\u2501\u2501\u2501\u2501\u2501\u2501\u2501\u2501\u2501\u2501\u2501\u2501\u2501\u2501\u2501\u2501\u001b[0m \u001b[32m24.6/24.6 MB\u001b[0m \u001b[31m53.2 MB/s\u001b[0m eta \u001b[36m0:00:00\u001b[0m\n",
            "\u001b[?25hDownloading nvidia_cuda_runtime_cu12-12.4.127-py3-none-manylinux2014_x86_64.whl (883 kB)\n",
            "\u001b[2K   \u001b[90m\u2501\u2501\u2501\u2501\u2501\u2501\u2501\u2501\u2501\u2501\u2501\u2501\u2501\u2501\u2501\u2501\u2501\u2501\u2501\u2501\u2501\u2501\u2501\u2501\u2501\u2501\u2501\u2501\u2501\u2501\u2501\u2501\u2501\u2501\u2501\u2501\u2501\u2501\u2501\u2501\u001b[0m \u001b[32m883.7/883.7 kB\u001b[0m \u001b[31m41.1 MB/s\u001b[0m eta \u001b[36m0:00:00\u001b[0m\n",
            "\u001b[?25hDownloading nvidia_cudnn_cu12-9.1.0.70-py3-none-manylinux2014_x86_64.whl (664.8 MB)\n",
            "\u001b[2K   \u001b[90m\u2501\u2501\u2501\u2501\u2501\u2501\u2501\u2501\u2501\u2501\u2501\u2501\u2501\u2501\u2501\u2501\u2501\u2501\u2501\u2501\u2501\u2501\u2501\u2501\u2501\u2501\u2501\u2501\u2501\u2501\u2501\u2501\u2501\u2501\u2501\u2501\u2501\u2501\u2501\u2501\u001b[0m \u001b[32m664.8/664.8 MB\u001b[0m \u001b[31m2.5 MB/s\u001b[0m eta \u001b[36m0:00:00\u001b[0m\n",
            "\u001b[?25hDownloading nvidia_cufft_cu12-11.2.1.3-py3-none-manylinux2014_x86_64.whl (211.5 MB)\n",
            "\u001b[2K   \u001b[90m\u2501\u2501\u2501\u2501\u2501\u2501\u2501\u2501\u2501\u2501\u2501\u2501\u2501\u2501\u2501\u2501\u2501\u2501\u2501\u2501\u2501\u2501\u2501\u2501\u2501\u2501\u2501\u2501\u2501\u2501\u2501\u2501\u2501\u2501\u2501\u2501\u2501\u2501\u2501\u2501\u001b[0m \u001b[32m211.5/211.5 MB\u001b[0m \u001b[31m6.0 MB/s\u001b[0m eta \u001b[36m0:00:00\u001b[0m\n",
            "\u001b[?25hDownloading nvidia_curand_cu12-10.3.5.147-py3-none-manylinux2014_x86_64.whl (56.3 MB)\n",
            "\u001b[2K   \u001b[90m\u2501\u2501\u2501\u2501\u2501\u2501\u2501\u2501\u2501\u2501\u2501\u2501\u2501\u2501\u2501\u2501\u2501\u2501\u2501\u2501\u2501\u2501\u2501\u2501\u2501\u2501\u2501\u2501\u2501\u2501\u2501\u2501\u2501\u2501\u2501\u2501\u2501\u2501\u2501\u2501\u001b[0m \u001b[32m56.3/56.3 MB\u001b[0m \u001b[31m15.0 MB/s\u001b[0m eta \u001b[36m0:00:00\u001b[0m\n",
            "\u001b[?25hDownloading nvidia_cusolver_cu12-11.6.1.9-py3-none-manylinux2014_x86_64.whl (127.9 MB)\n",
            "\u001b[2K   \u001b[90m\u2501\u2501\u2501\u2501\u2501\u2501\u2501\u2501\u2501\u2501\u2501\u2501\u2501\u2501\u2501\u2501\u2501\u2501\u2501\u2501\u2501\u2501\u2501\u2501\u2501\u2501\u2501\u2501\u2501\u2501\u2501\u2501\u2501\u2501\u2501\u2501\u2501\u2501\u2501\u2501\u001b[0m \u001b[32m127.9/127.9 MB\u001b[0m \u001b[31m7.4 MB/s\u001b[0m eta \u001b[36m0:00:00\u001b[0m\n",
            "\u001b[?25hDownloading nvidia_cusparse_cu12-12.3.1.170-py3-none-manylinux2014_x86_64.whl (207.5 MB)\n",
            "\u001b[2K   \u001b[90m\u2501\u2501\u2501\u2501\u2501\u2501\u2501\u2501\u2501\u2501\u2501\u2501\u2501\u2501\u2501\u2501\u2501\u2501\u2501\u2501\u2501\u2501\u2501\u2501\u2501\u2501\u2501\u2501\u2501\u2501\u2501\u2501\u2501\u2501\u2501\u2501\u2501\u2501\u2501\u2501\u001b[0m \u001b[32m207.5/207.5 MB\u001b[0m \u001b[31m5.9 MB/s\u001b[0m eta \u001b[36m0:00:00\u001b[0m\n",
            "\u001b[?25hDownloading nvidia_nvjitlink_cu12-12.4.127-py3-none-manylinux2014_x86_64.whl (21.1 MB)\n",
            "\u001b[2K   \u001b[90m\u2501\u2501\u2501\u2501\u2501\u2501\u2501\u2501\u2501\u2501\u2501\u2501\u2501\u2501\u2501\u2501\u2501\u2501\u2501\u2501\u2501\u2501\u2501\u2501\u2501\u2501\u2501\u2501\u2501\u2501\u2501\u2501\u2501\u2501\u2501\u2501\u2501\u2501\u2501\u2501\u001b[0m \u001b[32m21.1/21.1 MB\u001b[0m \u001b[31m73.7 MB/s\u001b[0m eta \u001b[36m0:00:00\u001b[0m\n",
            "\u001b[?25hInstalling collected packages: nvidia-nvjitlink-cu12, nvidia-curand-cu12, nvidia-cufft-cu12, nvidia-cuda-runtime-cu12, nvidia-cuda-nvrtc-cu12, nvidia-cuda-cupti-cu12, nvidia-cublas-cu12, nvidia-cusparse-cu12, nvidia-cudnn-cu12, nvidia-cusolver-cu12\n",
            "  Attempting uninstall: nvidia-nvjitlink-cu12\n",
            "    Found existing installation: nvidia-nvjitlink-cu12 12.5.82\n",
            "    Uninstalling nvidia-nvjitlink-cu12-12.5.82:\n",
            "      Successfully uninstalled nvidia-nvjitlink-cu12-12.5.82\n",
            "  Attempting uninstall: nvidia-curand-cu12\n",
            "    Found existing installation: nvidia-curand-cu12 10.3.6.82\n",
            "    Uninstalling nvidia-curand-cu12-10.3.6.82:\n",
            "      Successfully uninstalled nvidia-curand-cu12-10.3.6.82\n",
            "  Attempting uninstall: nvidia-cufft-cu12\n",
            "    Found existing installation: nvidia-cufft-cu12 11.2.3.61\n",
            "    Uninstalling nvidia-cufft-cu12-11.2.3.61:\n",
            "      Successfully uninstalled nvidia-cufft-cu12-11.2.3.61\n",
            "  Attempting uninstall: nvidia-cuda-runtime-cu12\n",
            "    Found existing installation: nvidia-cuda-runtime-cu12 12.5.82\n",
            "    Uninstalling nvidia-cuda-runtime-cu12-12.5.82:\n",
            "      Successfully uninstalled nvidia-cuda-runtime-cu12-12.5.82\n",
            "  Attempting uninstall: nvidia-cuda-nvrtc-cu12\n",
            "    Found existing installation: nvidia-cuda-nvrtc-cu12 12.5.82\n",
            "    Uninstalling nvidia-cuda-nvrtc-cu12-12.5.82:\n",
            "      Successfully uninstalled nvidia-cuda-nvrtc-cu12-12.5.82\n",
            "  Attempting uninstall: nvidia-cuda-cupti-cu12\n",
            "    Found existing installation: nvidia-cuda-cupti-cu12 12.5.82\n",
            "    Uninstalling nvidia-cuda-cupti-cu12-12.5.82:\n",
            "      Successfully uninstalled nvidia-cuda-cupti-cu12-12.5.82\n",
            "  Attempting uninstall: nvidia-cublas-cu12\n",
            "    Found existing installation: nvidia-cublas-cu12 12.5.3.2\n",
            "    Uninstalling nvidia-cublas-cu12-12.5.3.2:\n",
            "      Successfully uninstalled nvidia-cublas-cu12-12.5.3.2\n",
            "  Attempting uninstall: nvidia-cusparse-cu12\n",
            "    Found existing installation: nvidia-cusparse-cu12 12.5.1.3\n",
            "    Uninstalling nvidia-cusparse-cu12-12.5.1.3:\n",
            "      Successfully uninstalled nvidia-cusparse-cu12-12.5.1.3\n",
            "  Attempting uninstall: nvidia-cudnn-cu12\n",
            "    Found existing installation: nvidia-cudnn-cu12 9.3.0.75\n",
            "    Uninstalling nvidia-cudnn-cu12-9.3.0.75:\n",
            "      Successfully uninstalled nvidia-cudnn-cu12-9.3.0.75\n",
            "  Attempting uninstall: nvidia-cusolver-cu12\n",
            "    Found existing installation: nvidia-cusolver-cu12 11.6.3.83\n",
            "    Uninstalling nvidia-cusolver-cu12-11.6.3.83:\n",
            "      Successfully uninstalled nvidia-cusolver-cu12-11.6.3.83\n",
            "Successfully installed nvidia-cublas-cu12-12.4.5.8 nvidia-cuda-cupti-cu12-12.4.127 nvidia-cuda-nvrtc-cu12-12.4.127 nvidia-cuda-runtime-cu12-12.4.127 nvidia-cudnn-cu12-9.1.0.70 nvidia-cufft-cu12-11.2.1.3 nvidia-curand-cu12-10.3.5.147 nvidia-cusolver-cu12-11.6.1.9 nvidia-cusparse-cu12-12.3.1.170 nvidia-nvjitlink-cu12-12.4.127\n",
            "Requirement already satisfied: scikit-learn in /usr/local/lib/python3.11/dist-packages (1.6.1)\n",
            "Requirement already satisfied: numpy>=1.19.5 in /usr/local/lib/python3.11/dist-packages (from scikit-learn) (2.0.2)\n",
            "Requirement already satisfied: scipy>=1.6.0 in /usr/local/lib/python3.11/dist-packages (from scikit-learn) (1.14.1)\n",
            "Requirement already satisfied: joblib>=1.2.0 in /usr/local/lib/python3.11/dist-packages (from scikit-learn) (1.4.2)\n",
            "Requirement already satisfied: threadpoolctl>=3.1.0 in /usr/local/lib/python3.11/dist-packages (from scikit-learn) (3.6.0)\n",
            "Requirement already satisfied: numpy in /usr/local/lib/python3.11/dist-packages (2.0.2)\n"
          ]
        }
      ],
      "source": [
        "!pip install sentence-transformers\n",
        "!pip install scikit-learn\n",
        "!pip install numpy"
      ]
    },
    {
      "cell_type": "code",
      "source": [
        "import numpy as np\n",
        "from sentence_transformers import SentenceTransformer\n",
        "from sklearn.metrics.pairwise import cosine_similarity"
      ],
      "metadata": {
        "id": "xoJ3XDYLZTuq"
      },
      "execution_count": 2,
      "outputs": []
    },
    {
      "cell_type": "markdown",
      "source": [
        "## Matching Resume Skills to Job Requirements using sentence.transformers"
      ],
      "metadata": {
        "id": "paXSd6UynFtH"
      }
    },
    {
      "cell_type": "code",
      "source": [
        "# Load a pre-trained sentence transformer model (will download if not cached)\n",
        "model = SentenceTransformer('all-MiniLM-L6-v2')  # Smaller, faster model\n",
        "\n",
        "# Job description (reference)\n",
        "job_descriptions = [\n",
        "    \"We need a data scientist who can build machine learning models and analyze large datasets to extract business insights.\",\n",
        "]\n",
        "\n",
        "# Candidate skills (predictions to evaluate)\n",
        "candidate_skills = [\n",
        "    \"Experienced in predictive modeling, statistical analysis, and using Python for working with big data to drive business decisions.\",\n",
        "    \"Frontend developer with React and Angular experience. Built responsive web applications for various clients.\",\n",
        "    \"ML engineer with expertise in deep learning. Created neural networks for NLP tasks and implemented recommendation systems.\"\n",
        "]\n",
        "\n",
        "# Convert texts to embeddings\n",
        "job_embeddings = model.encode(job_descriptions)\n",
        "candidate_embeddings = model.encode(candidate_skills)\n",
        "\n",
        "# Calculate semantic similarity using cosine similarity\n",
        "for i, skills in enumerate(candidate_skills):\n",
        "    # Calculate similarity score (0-1 range, higher is more similar)\n",
        "    similarity = cosine_similarity(\n",
        "        job_embeddings.reshape(1, -1),\n",
        "        candidate_embeddings[i].reshape(1, -1)\n",
        "    )[0][0]\n",
        "\n",
        "    print(f\"Candidate {i+1}: {skills}\")\n",
        "    print(f\"Semantic Similarity Score: {similarity:.4f}\")\n",
        "\n",
        "    # Simple interpretation\n",
        "    if similarity > 0.8:\n",
        "        match_quality = \"Excellent match\"\n",
        "    elif similarity > 0.6:\n",
        "        match_quality = \"Good match\"\n",
        "    elif similarity > 0.4:\n",
        "        match_quality = \"Moderate match\"\n",
        "    else:\n",
        "        match_quality = \"Poor match\"\n",
        "\n",
        "    print(f\"Match Quality: {match_quality}\")\n",
        "    print(\"-\" * 80)"
      ],
      "metadata": {
        "id": "vqySk6NFZddS",
        "colab": {
          "base_uri": "https://localhost:8080/",
          "height": 729,
          "referenced_widgets": [
            "7b93f0c0fe1b4a97a1822eddb158cdc0",
            "eb4daf58638e4e64a70181003e6ea924",
            "e81de91ca88b4d95ba34db2d0801297c",
            "d57c62ff600f4b068eaff28324c44748",
            "c3274b552b764e9fb42aea3649b9a130",
            "1e45d1de05174e328eeeb4ef4819f054",
            "9a0b64e932ac4a708e3f30e0afd0750f",
            "1256f8b57de64cb4b6f228585230677b",
            "ee2a6d24623a4b809677faaaae6caf6e",
            "f493de5d22b24b8ead07c7620f20c9a9",
            "9aa29d39996b4a1fb88cd6f85aace348",
            "ee4639fdcac44293873c90a6e1bf9b30",
            "b2b9a55a2fdd487fa07727d14f5009f7",
            "bb2158af018a45588554542b68e4278d",
            "1fac8d0a800b400b89f03d08a539c124",
            "ffc9b09ace75400d8c88219020fd6003",
            "dd9a58b16290455aa3d5affa4c3f1254",
            "8e8bee6ecdbd451f8cc5f501080c3de2",
            "2da910b3be7b4802ba1068961f08d229",
            "dbdca172101643d7ae1a3d4037465e9f",
            "4723180cb1a34e77839f1071dd685fdb",
            "cffac89e27734f7aa127eff4c4f37520",
            "3db5b9e94275420ca02cd9aff41b05e5",
            "bc650daca7a54279a26721f89ee26a72",
            "95f0ed212829442385fcfaa1ab549326",
            "2ed0718fa7354f3b8d755a525217035a",
            "bfd8e2236547474d8a933ee5fd0f795e",
            "7d3cd28712dc4696812332889521d630",
            "20f103957e5b4137873011b1e2ea233b",
            "af5834fe9a1e4a1ab9c00eaff51c56aa",
            "021426ceae8c4f23866758a6be3de7e6",
            "1c2e4e2741d14812955e9eba0e4a816a",
            "10d9747855d5420ab5be6a900523d694",
            "3a0422f05e464dccab35c8aba18bd828",
            "7bcb5e04b0944a479380d9dddeeda483",
            "7b3b020c2eb24aedb699ce58f0def153",
            "0f4a1907de7447909c3e1b708e640264",
            "642c03ded2414ed495684a8c7eb54f09",
            "fe53d35d5b9d4923a8277ae207f29c63",
            "646e27590a9b4a098cb4faa9dfe5acaa",
            "3048f0fa19204c91b5d95f3673a795e7",
            "996a98eef1784f5893440fa4cde3ceaa",
            "12ea7379c6c04da0bb821d66d60cec00",
            "1dfef8755e0e492ab68f4f77e7760aa5",
            "6a2d5bd57ff940989644ad40ae9edb30",
            "04f736e42ff94780a92be2355f742d27",
            "bc6da5f91301406395659beae6b9622a",
            "d361be6f85a94cd78842085824e709e0",
            "4621111d0780406d86f5a00e762546f4",
            "d40fbe23842d4fd5a7ee38fbb6c2aee2",
            "5d4c1aaa9e43418e9698f4d8056effb9",
            "14f520d740ae40fb998b00a8f51b54cc",
            "7e4d5b0232134eab929edde52e44c563",
            "b7eb4dbb5a3e4991a5c32b904a00ff4f",
            "34751bff552641cbb0593d04cb024a23",
            "4789817011ff472e96b9863c937a7975",
            "4da09fd2058c429696640d40526881a7",
            "e610081cd01647c69c0d1dcb24223952",
            "eb16884405084c1e87ce03b6de2e7b85",
            "f366285f45814b10831dfd8903de4c37",
            "1e389f7cf37b469798222e4dfd935ca5",
            "a5f9f47bbad042eeb94e3c92ba9d78c3",
            "a4bda5e0b6294805bf0eb305953ad0a8",
            "87ffb18272384ae8b5ce6bb72d70f896",
            "cbf7134e412240329f92c01a1cfeb341",
            "5619aa7c843c4d90825c59863e817d08",
            "3e6de0fee4a74570b0d60485d4bea66e",
            "f73187bb185a4496b57b26c1f36cfbb4",
            "3515063a7a74497c8f152ed1c37cca83",
            "c9b720f90f594ad19abfb13d73b4e644",
            "19d3b5036919473ebc02fc3c06c0dab9",
            "35b86eee569644f3909c16140936cabe",
            "9ba6334a945f43e4b1ccdf6deae42737",
            "807c42333e324728a7251b530937ad92",
            "58254cd49c1445e5a5f60e5f83c9b959",
            "a8580d2911dd4bd3a3b2e4b9fcaa27b5",
            "d068bb479b2f4c2bbfb3ddf31fe2bbfd",
            "5444bbbae1184df9a87abdc1a9340eb8",
            "8a8eec51d272482585629ab114646868",
            "3c2d7403f8bd4523894e8745dfb8783e",
            "44374c80680e4665a4deb748f7f86aaa",
            "e2741c241ebd41cf90c29003fd580ed9",
            "0e6f5659c88844e894f71ce9c9ab6c5b",
            "6e9ce12b7abd48b3b991f8418aefb7a0",
            "d021faa3b68d404d9fc89f135327fff0",
            "d338ee93e94142d7bd3ec88c3fb161f2",
            "bc26c8b2148d411f83d636302325d52e",
            "79dfe4fbf5514bd6b6f452f81ccf23f2",
            "caee608db022449e84d3ab8af57fcb72",
            "e2cca0aa7e864f19be905dc0d584cc6a",
            "95ce853c3d654906ac8583d3d7be2a6f",
            "347fec9a051746f9874fc96fafa7a06f",
            "0885e13dcfcd42c4820ed251c6348902",
            "c7ba207745854f24839d25ffb51f7912",
            "95a4b74ff64a446a914c0c6a9e177d98",
            "5dad64892ed64b8b93db8a8848618c5c",
            "8be50727de6e42b8aaaac85cf8ef7ceb",
            "8944fea1b90a4a2887318b93fbf4939c",
            "1fa179524ca7482983ee8b7fd53dbc8c",
            "813c2330b8ac4fe38f456f00ac635c8f",
            "99048f87685b4c488cd4beb6072c9d81",
            "7c13602ffe6d4efaae98b031813bc78b",
            "b1890169029348bb913fd8e01f5cec20",
            "85050e5c90834a7382e23207a047e197",
            "339af10100c94bdf8890678fd9ee47a7",
            "c97bfdbc1068483b80d1695012ce366a",
            "538086402ec34bc5a6d768cdf58a57d9",
            "8471ff3c31044bd6ba960b072684236a",
            "83438b0f677249f1a1d1dd9d7e245805",
            "de7dc36a27c24045925b91032f399cf1",
            "fa1ec34378274d74a2b345946c69bdd7",
            "217c5f634e2a429fb1886cebb1fdd054",
            "cd3a334510904048b174a2bd5aed2081",
            "288204475f894a5c8f6c1ca1cc429dfd",
            "71e6c0815f2347918f081c9f0ae8e1b6",
            "a01cba5ff89b4db294b2f7acc3e39f9b",
            "85d8ff5272ff49deba29c85317e8ea40",
            "5cd5140cf7824dc3be7dff022d708cef",
            "47d6e941b3fd4714bfa2702f647c81ec",
            "a61ef33264cc473d9cace2b283572f10",
            "6924cbb6934748bea4d3f98b2d1bb48b"
          ]
        },
        "outputId": "d880b6c3-d99d-4b20-921e-d0734a429205"
      },
      "execution_count": 3,
      "outputs": [
        {
          "output_type": "stream",
          "name": "stderr",
          "text": [
            "/usr/local/lib/python3.11/dist-packages/huggingface_hub/utils/_auth.py:94: UserWarning: \n",
            "The secret `HF_TOKEN` does not exist in your Colab secrets.\n",
            "To authenticate with the Hugging Face Hub, create a token in your settings tab (https://huggingface.co/settings/tokens), set it as secret in your Google Colab and restart your session.\n",
            "You will be able to reuse this secret in all of your notebooks.\n",
            "Please note that authentication is recommended but still optional to access public models or datasets.\n",
            "  warnings.warn(\n"
          ]
        },
        {
          "output_type": "display_data",
          "data": {
            "text/plain": [
              "modules.json:   0%|          | 0.00/349 [00:00<?, ?B/s]"
            ],
            "application/vnd.jupyter.widget-view+json": {
              "version_major": 2,
              "version_minor": 0,
              "model_id": "7b93f0c0fe1b4a97a1822eddb158cdc0"
            }
          },
          "metadata": {}
        },
        {
          "output_type": "display_data",
          "data": {
            "text/plain": [
              "config_sentence_transformers.json:   0%|          | 0.00/116 [00:00<?, ?B/s]"
            ],
            "application/vnd.jupyter.widget-view+json": {
              "version_major": 2,
              "version_minor": 0,
              "model_id": "ee4639fdcac44293873c90a6e1bf9b30"
            }
          },
          "metadata": {}
        },
        {
          "output_type": "display_data",
          "data": {
            "text/plain": [
              "README.md:   0%|          | 0.00/10.5k [00:00<?, ?B/s]"
            ],
            "application/vnd.jupyter.widget-view+json": {
              "version_major": 2,
              "version_minor": 0,
              "model_id": "3db5b9e94275420ca02cd9aff41b05e5"
            }
          },
          "metadata": {}
        },
        {
          "output_type": "display_data",
          "data": {
            "text/plain": [
              "sentence_bert_config.json:   0%|          | 0.00/53.0 [00:00<?, ?B/s]"
            ],
            "application/vnd.jupyter.widget-view+json": {
              "version_major": 2,
              "version_minor": 0,
              "model_id": "3a0422f05e464dccab35c8aba18bd828"
            }
          },
          "metadata": {}
        },
        {
          "output_type": "display_data",
          "data": {
            "text/plain": [
              "config.json:   0%|          | 0.00/612 [00:00<?, ?B/s]"
            ],
            "application/vnd.jupyter.widget-view+json": {
              "version_major": 2,
              "version_minor": 0,
              "model_id": "6a2d5bd57ff940989644ad40ae9edb30"
            }
          },
          "metadata": {}
        },
        {
          "output_type": "stream",
          "name": "stderr",
          "text": [
            "Xet Storage is enabled for this repo, but the 'hf_xet' package is not installed. Falling back to regular HTTP download. For better performance, install the package with: `pip install huggingface_hub[hf_xet]` or `pip install hf_xet`\n",
            "WARNING:huggingface_hub.file_download:Xet Storage is enabled for this repo, but the 'hf_xet' package is not installed. Falling back to regular HTTP download. For better performance, install the package with: `pip install huggingface_hub[hf_xet]` or `pip install hf_xet`\n"
          ]
        },
        {
          "output_type": "display_data",
          "data": {
            "text/plain": [
              "model.safetensors:   0%|          | 0.00/90.9M [00:00<?, ?B/s]"
            ],
            "application/vnd.jupyter.widget-view+json": {
              "version_major": 2,
              "version_minor": 0,
              "model_id": "4789817011ff472e96b9863c937a7975"
            }
          },
          "metadata": {}
        },
        {
          "output_type": "display_data",
          "data": {
            "text/plain": [
              "tokenizer_config.json:   0%|          | 0.00/350 [00:00<?, ?B/s]"
            ],
            "application/vnd.jupyter.widget-view+json": {
              "version_major": 2,
              "version_minor": 0,
              "model_id": "3e6de0fee4a74570b0d60485d4bea66e"
            }
          },
          "metadata": {}
        },
        {
          "output_type": "display_data",
          "data": {
            "text/plain": [
              "vocab.txt:   0%|          | 0.00/232k [00:00<?, ?B/s]"
            ],
            "application/vnd.jupyter.widget-view+json": {
              "version_major": 2,
              "version_minor": 0,
              "model_id": "5444bbbae1184df9a87abdc1a9340eb8"
            }
          },
          "metadata": {}
        },
        {
          "output_type": "display_data",
          "data": {
            "text/plain": [
              "tokenizer.json:   0%|          | 0.00/466k [00:00<?, ?B/s]"
            ],
            "application/vnd.jupyter.widget-view+json": {
              "version_major": 2,
              "version_minor": 0,
              "model_id": "caee608db022449e84d3ab8af57fcb72"
            }
          },
          "metadata": {}
        },
        {
          "output_type": "display_data",
          "data": {
            "text/plain": [
              "special_tokens_map.json:   0%|          | 0.00/112 [00:00<?, ?B/s]"
            ],
            "application/vnd.jupyter.widget-view+json": {
              "version_major": 2,
              "version_minor": 0,
              "model_id": "813c2330b8ac4fe38f456f00ac635c8f"
            }
          },
          "metadata": {}
        },
        {
          "output_type": "display_data",
          "data": {
            "text/plain": [
              "config.json:   0%|          | 0.00/190 [00:00<?, ?B/s]"
            ],
            "application/vnd.jupyter.widget-view+json": {
              "version_major": 2,
              "version_minor": 0,
              "model_id": "fa1ec34378274d74a2b345946c69bdd7"
            }
          },
          "metadata": {}
        },
        {
          "output_type": "stream",
          "name": "stdout",
          "text": [
            "Candidate 1: Experienced in predictive modeling, statistical analysis, and using Python for working with big data to drive business decisions.\n",
            "Semantic Similarity Score: 0.5700\n",
            "Match Quality: Moderate match\n",
            "--------------------------------------------------------------------------------\n",
            "Candidate 2: Frontend developer with React and Angular experience. Built responsive web applications for various clients.\n",
            "Semantic Similarity Score: 0.1166\n",
            "Match Quality: Poor match\n",
            "--------------------------------------------------------------------------------\n",
            "Candidate 3: ML engineer with expertise in deep learning. Created neural networks for NLP tasks and implemented recommendation systems.\n",
            "Semantic Similarity Score: 0.4565\n",
            "Match Quality: Moderate match\n",
            "--------------------------------------------------------------------------------\n"
          ]
        }
      ]
    },
    {
      "cell_type": "markdown",
      "source": [
        "### Evaluating Technical Skills Against Project Requirements"
      ],
      "metadata": {
        "id": "4w2LoWxYsjWd"
      }
    },
    {
      "cell_type": "code",
      "source": [
        "# Project requirement (reference)\n",
        "project_requirements = [\n",
        "    \"This hardware integration project requires expertise in embedded systems programming, knowledge of I2C and SPI protocols, experience with sensor calibration, and familiarity with real-time operating systems.\",\n",
        "]\n",
        "\n",
        "# Engineer skills to evaluate (predictions)\n",
        "engineer_skills = [\n",
        "    \"10 years developing embedded systems using C/C++. Extensive experience with I2C, SPI, and UART protocols. Implemented sensor fusion algorithms and worked with FreeRTOS.\",\n",
        "    \"Hardware designer with FPGA programming skills. Experience designing PCBs and implementing digital signal processing algorithms.\"\n",
        "]\n",
        "\n",
        "# Evaluate technical fit\n",
        "for i, skills in enumerate(engineer_skills):\n",
        "    bleu_score = bleu.compute(predictions=[skills], references=[[project_requirements[0]]])\n",
        "    rouge_score = rouge.compute(predictions=[skills], references=[project_requirements[0]])\n",
        "    print(f\"Engineer {i+1} Technical Match:\")\n",
        "    print(f\"BLEU Score: {bleu_score['bleu']}\")\n",
        "    print(f\"ROUGE-L Score: {rouge_score['rougeL']}\")\n",
        "    print(\"-\" * 50)"
      ],
      "metadata": {
        "colab": {
          "base_uri": "https://localhost:8080/"
        },
        "id": "8lzf1Oensv-w",
        "outputId": "505eae4e-7268-48cd-da7b-fa5c7d9de59c"
      },
      "execution_count": null,
      "outputs": [
        {
          "output_type": "stream",
          "name": "stdout",
          "text": [
            "Engineer 1 Technical Match:\n",
            "BLEU Score: 0.0\n",
            "ROUGE-L Score: 0.3137254901960785\n",
            "--------------------------------------------------\n",
            "Engineer 2 Technical Match:\n",
            "BLEU Score: 0.0\n",
            "ROUGE-L Score: 0.19047619047619047\n",
            "--------------------------------------------------\n"
          ]
        }
      ]
    }
  ]
}
