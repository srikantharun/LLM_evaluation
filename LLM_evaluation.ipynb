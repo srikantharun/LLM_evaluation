{
  "nbformat": 4,
  "nbformat_minor": 0,
  "metadata": {
    "colab": {
      "provenance": []
    },
    "kernelspec": {
      "name": "python3",
      "display_name": "Python 3"
    },
    "language_info": {
      "name": "python"
    }
  },
  "cells": [
    {
      "cell_type": "code",
      "execution_count": null,
      "metadata": {
        "colab": {
          "base_uri": "https://localhost:8080/"
        },
        "id": "rOXunKBzZRb-",
        "outputId": "dd2e0273-9ac2-4e0f-b8c9-08fbdc83da5c"
      },
      "outputs": [
        {
          "output_type": "stream",
          "name": "stdout",
          "text": [
            "Collecting evaluate\n",
            "  Downloading evaluate-0.4.1-py3-none-any.whl (84 kB)\n",
            "\u001b[2K     \u001b[90m\u2501\u2501\u2501\u2501\u2501\u2501\u2501\u2501\u2501\u2501\u2501\u2501\u2501\u2501\u2501\u2501\u2501\u2501\u2501\u2501\u2501\u2501\u2501\u2501\u2501\u2501\u2501\u2501\u2501\u2501\u2501\u2501\u2501\u2501\u2501\u2501\u2501\u2501\u2501\u2501\u001b[0m \u001b[32m84.1/84.1 kB\u001b[0m \u001b[31m1.7 MB/s\u001b[0m eta \u001b[36m0:00:00\u001b[0m\n",
            "\u001b[?25hCollecting datasets>=2.0.0 (from evaluate)\n",
            "  Downloading datasets-2.16.1-py3-none-any.whl (507 kB)\n",
            "\u001b[2K     \u001b[90m\u2501\u2501\u2501\u2501\u2501\u2501\u2501\u2501\u2501\u2501\u2501\u2501\u2501\u2501\u2501\u2501\u2501\u2501\u2501\u2501\u2501\u2501\u2501\u2501\u2501\u2501\u2501\u2501\u2501\u2501\u2501\u2501\u2501\u2501\u2501\u2501\u2501\u2501\u2501\u2501\u001b[0m \u001b[32m507.1/507.1 kB\u001b[0m \u001b[31m17.2 MB/s\u001b[0m eta \u001b[36m0:00:00\u001b[0m\n",
            "\u001b[?25hRequirement already satisfied: numpy>=1.17 in /usr/local/lib/python3.10/dist-packages (from evaluate) (1.23.5)\n",
            "Collecting dill (from evaluate)\n",
            "  Downloading dill-0.3.8-py3-none-any.whl (116 kB)\n",
            "\u001b[2K     \u001b[90m\u2501\u2501\u2501\u2501\u2501\u2501\u2501\u2501\u2501\u2501\u2501\u2501\u2501\u2501\u2501\u2501\u2501\u2501\u2501\u2501\u2501\u2501\u2501\u2501\u2501\u2501\u2501\u2501\u2501\u2501\u2501\u2501\u2501\u2501\u2501\u2501\u2501\u2501\u2501\u2501\u001b[0m \u001b[32m116.3/116.3 kB\u001b[0m \u001b[31m14.6 MB/s\u001b[0m eta \u001b[36m0:00:00\u001b[0m\n",
            "\u001b[?25hRequirement already satisfied: pandas in /usr/local/lib/python3.10/dist-packages (from evaluate) (1.5.3)\n",
            "Requirement already satisfied: requests>=2.19.0 in /usr/local/lib/python3.10/dist-packages (from evaluate) (2.31.0)\n",
            "Requirement already satisfied: tqdm>=4.62.1 in /usr/local/lib/python3.10/dist-packages (from evaluate) (4.66.1)\n",
            "Requirement already satisfied: xxhash in /usr/local/lib/python3.10/dist-packages (from evaluate) (3.4.1)\n",
            "Collecting multiprocess (from evaluate)\n",
            "  Downloading multiprocess-0.70.16-py310-none-any.whl (134 kB)\n",
            "\u001b[2K     \u001b[90m\u2501\u2501\u2501\u2501\u2501\u2501\u2501\u2501\u2501\u2501\u2501\u2501\u2501\u2501\u2501\u2501\u2501\u2501\u2501\u2501\u2501\u2501\u2501\u2501\u2501\u2501\u2501\u2501\u2501\u2501\u2501\u2501\u2501\u2501\u2501\u2501\u2501\u2501\u2501\u2501\u001b[0m \u001b[32m134.8/134.8 kB\u001b[0m \u001b[31m14.4 MB/s\u001b[0m eta \u001b[36m0:00:00\u001b[0m\n",
            "\u001b[?25hRequirement already satisfied: fsspec[http]>=2021.05.0 in /usr/local/lib/python3.10/dist-packages (from evaluate) (2023.6.0)\n",
            "Requirement already satisfied: huggingface-hub>=0.7.0 in /usr/local/lib/python3.10/dist-packages (from evaluate) (0.20.3)\n",
            "Requirement already satisfied: packaging in /usr/local/lib/python3.10/dist-packages (from evaluate) (23.2)\n",
            "Collecting responses<0.19 (from evaluate)\n",
            "  Downloading responses-0.18.0-py3-none-any.whl (38 kB)\n",
            "Requirement already satisfied: filelock in /usr/local/lib/python3.10/dist-packages (from datasets>=2.0.0->evaluate) (3.13.1)\n",
            "Requirement already satisfied: pyarrow>=8.0.0 in /usr/local/lib/python3.10/dist-packages (from datasets>=2.0.0->evaluate) (10.0.1)\n",
            "Requirement already satisfied: pyarrow-hotfix in /usr/local/lib/python3.10/dist-packages (from datasets>=2.0.0->evaluate) (0.6)\n",
            "Collecting dill (from evaluate)\n",
            "  Downloading dill-0.3.7-py3-none-any.whl (115 kB)\n",
            "\u001b[2K     \u001b[90m\u2501\u2501\u2501\u2501\u2501\u2501\u2501\u2501\u2501\u2501\u2501\u2501\u2501\u2501\u2501\u2501\u2501\u2501\u2501\u2501\u2501\u2501\u2501\u2501\u2501\u2501\u2501\u2501\u2501\u2501\u2501\u2501\u2501\u2501\u2501\u2501\u2501\u2501\u2501\u2501\u001b[0m \u001b[32m115.3/115.3 kB\u001b[0m \u001b[31m14.4 MB/s\u001b[0m eta \u001b[36m0:00:00\u001b[0m\n",
            "\u001b[?25hRequirement already satisfied: aiohttp in /usr/local/lib/python3.10/dist-packages (from datasets>=2.0.0->evaluate) (3.9.3)\n",
            "Requirement already satisfied: pyyaml>=5.1 in /usr/local/lib/python3.10/dist-packages (from datasets>=2.0.0->evaluate) (6.0.1)\n",
            "Requirement already satisfied: typing-extensions>=3.7.4.3 in /usr/local/lib/python3.10/dist-packages (from huggingface-hub>=0.7.0->evaluate) (4.5.0)\n",
            "Requirement already satisfied: charset-normalizer<4,>=2 in /usr/local/lib/python3.10/dist-packages (from requests>=2.19.0->evaluate) (3.3.2)\n",
            "Requirement already satisfied: idna<4,>=2.5 in /usr/local/lib/python3.10/dist-packages (from requests>=2.19.0->evaluate) (3.6)\n",
            "Requirement already satisfied: urllib3<3,>=1.21.1 in /usr/local/lib/python3.10/dist-packages (from requests>=2.19.0->evaluate) (2.0.7)\n",
            "Requirement already satisfied: certifi>=2017.4.17 in /usr/local/lib/python3.10/dist-packages (from requests>=2.19.0->evaluate) (2023.11.17)\n",
            "INFO: pip is looking at multiple versions of multiprocess to determine which version is compatible with other requirements. This could take a while.\n",
            "Collecting multiprocess (from evaluate)\n",
            "  Downloading multiprocess-0.70.15-py310-none-any.whl (134 kB)\n",
            "\u001b[2K     \u001b[90m\u2501\u2501\u2501\u2501\u2501\u2501\u2501\u2501\u2501\u2501\u2501\u2501\u2501\u2501\u2501\u2501\u2501\u2501\u2501\u2501\u2501\u2501\u2501\u2501\u2501\u2501\u2501\u2501\u2501\u2501\u2501\u2501\u2501\u2501\u2501\u2501\u2501\u2501\u2501\u2501\u001b[0m \u001b[32m134.8/134.8 kB\u001b[0m \u001b[31m16.5 MB/s\u001b[0m eta \u001b[36m0:00:00\u001b[0m\n",
            "\u001b[?25hRequirement already satisfied: python-dateutil>=2.8.1 in /usr/local/lib/python3.10/dist-packages (from pandas->evaluate) (2.8.2)\n",
            "Requirement already satisfied: pytz>=2020.1 in /usr/local/lib/python3.10/dist-packages (from pandas->evaluate) (2023.4)\n",
            "Requirement already satisfied: aiosignal>=1.1.2 in /usr/local/lib/python3.10/dist-packages (from aiohttp->datasets>=2.0.0->evaluate) (1.3.1)\n",
            "Requirement already satisfied: attrs>=17.3.0 in /usr/local/lib/python3.10/dist-packages (from aiohttp->datasets>=2.0.0->evaluate) (23.2.0)\n",
            "Requirement already satisfied: frozenlist>=1.1.1 in /usr/local/lib/python3.10/dist-packages (from aiohttp->datasets>=2.0.0->evaluate) (1.4.1)\n",
            "Requirement already satisfied: multidict<7.0,>=4.5 in /usr/local/lib/python3.10/dist-packages (from aiohttp->datasets>=2.0.0->evaluate) (6.0.4)\n",
            "Requirement already satisfied: yarl<2.0,>=1.0 in /usr/local/lib/python3.10/dist-packages (from aiohttp->datasets>=2.0.0->evaluate) (1.9.4)\n",
            "Requirement already satisfied: async-timeout<5.0,>=4.0 in /usr/local/lib/python3.10/dist-packages (from aiohttp->datasets>=2.0.0->evaluate) (4.0.3)\n",
            "Requirement already satisfied: six>=1.5 in /usr/local/lib/python3.10/dist-packages (from python-dateutil>=2.8.1->pandas->evaluate) (1.16.0)\n",
            "Installing collected packages: dill, responses, multiprocess, datasets, evaluate\n",
            "Successfully installed datasets-2.16.1 dill-0.3.7 evaluate-0.4.1 multiprocess-0.70.15 responses-0.18.0\n",
            "Collecting rouge_score\n",
            "  Downloading rouge_score-0.1.2.tar.gz (17 kB)\n",
            "  Preparing metadata (setup.py) ... \u001b[?25l\u001b[?25hdone\n",
            "Requirement already satisfied: absl-py in /usr/local/lib/python3.10/dist-packages (from rouge_score) (1.4.0)\n",
            "Requirement already satisfied: nltk in /usr/local/lib/python3.10/dist-packages (from rouge_score) (3.8.1)\n",
            "Requirement already satisfied: numpy in /usr/local/lib/python3.10/dist-packages (from rouge_score) (1.23.5)\n",
            "Requirement already satisfied: six>=1.14.0 in /usr/local/lib/python3.10/dist-packages (from rouge_score) (1.16.0)\n",
            "Requirement already satisfied: click in /usr/local/lib/python3.10/dist-packages (from nltk->rouge_score) (8.1.7)\n",
            "Requirement already satisfied: joblib in /usr/local/lib/python3.10/dist-packages (from nltk->rouge_score) (1.3.2)\n",
            "Requirement already satisfied: regex>=2021.8.3 in /usr/local/lib/python3.10/dist-packages (from nltk->rouge_score) (2023.12.25)\n",
            "Requirement already satisfied: tqdm in /usr/local/lib/python3.10/dist-packages (from nltk->rouge_score) (4.66.1)\n",
            "Building wheels for collected packages: rouge_score\n",
            "  Building wheel for rouge_score (setup.py) ... \u001b[?25l\u001b[?25hdone\n",
            "  Created wheel for rouge_score: filename=rouge_score-0.1.2-py3-none-any.whl size=24933 sha256=71fe4fc502321562a4408cab4d8f44f53e655685e080e13852b7e37d36562a2e\n",
            "  Stored in directory: /root/.cache/pip/wheels/5f/dd/89/461065a73be61a532ff8599a28e9beef17985c9e9c31e541b4\n",
            "Successfully built rouge_score\n",
            "Installing collected packages: rouge_score\n",
            "Successfully installed rouge_score-0.1.2\n"
          ]
        }
      ],
      "source": [
        "%pip install evaluate\n",
        "%pip install rouge_score"
      ]
    },
    {
      "cell_type": "code",
      "source": [
        "import evaluate"
      ],
      "metadata": {
        "id": "xoJ3XDYLZTuq"
      },
      "execution_count": null,
      "outputs": []
    },
    {
      "cell_type": "markdown",
      "source": [
        "## You can play around with the reference text and prediction text and see how the evaluation metrics change to get a feel for these metrics.\n"
      ],
      "metadata": {
        "id": "paXSd6UynFtH"
      }
    },
    {
      "cell_type": "code",
      "source": [
        "rouge = evaluate.load('rouge')\n",
        "bleu = evaluate.load('bleu')\n",
        "references = [['A fast brown fox leaps over the sleepy dog.'], ['Artificial intelligence is transforming various industries, including healthcare and finance.']]\n",
        "predictions = [[['Quick brown fox jumping over a lazy dog.'], ['A fast brown fox jumps over the sleepy dog.'], ['A fast brown fox leaps over the sleepy dog.']], \\\n",
        "               [['AI is revolutionizing different sectors, like healthcare and finance.'], ['Artificial intelligence is transforming industries such as healthcare and finance.'], \\\n",
        "                ['Artificial intelligence is transforming various industries, including healthcare and finance.']]]"
      ],
      "metadata": {
        "id": "vqySk6NFZddS",
        "colab": {
          "base_uri": "https://localhost:8080/",
          "height": 145,
          "referenced_widgets": [
            "a937904ce419477a8bcf79bc0dc528a6",
            "6a281ac19c05406c85dbeeb24a9728cc",
            "9ae448e98dec4f1d93c414b1c27f46c1",
            "a3cdfdcb9cc04874b39e42a1e1c0ca1a",
            "81747c1da46f490697a8d9d3b499e074",
            "e72d1af655fb4f5bbc3f89b8fc51de61",
            "fa6fa91251bc43a28a0bde45b5b16c61",
            "2c1596be37714d99bfd00d62d587bba2",
            "d73683608283464da458863998f6841b",
            "f73d96ad6dc547ebbf1dc6b237dda4a4",
            "cf793ee091d1459194ff131f1eb3cfa9",
            "6178d229fea04d548c40c077cb8cb0fb",
            "d9294599a60448f2969579253b99fbee",
            "6063a56522c44bd48e159416c0f40e52",
            "40e959c23ec94413ab9f92263c3c9b2a",
            "ebc19526c686403f8abfc3343cc01f16",
            "a26586f0e90347fdbee50ebc41054543",
            "8f8e39efebfd4f5d96d561541c602a73",
            "d6071f275f1c445fb2a8f76456777851",
            "8a5d540e5989493fb062da449dcf1357",
            "afdb10509e6d485eaa6eaab2267c1b31",
            "af354e1dbd434bc9bde42fc8bcc6cbb5",
            "415880ad3fcc40eab724bbc123d56e67",
            "4ed79acd39c842a98132122a3f657f68",
            "e5a6c26137df4da59c97d1869d55815e",
            "f09a72ce08a2472b9209d5d6c527aa91",
            "bcd386a4cf34482f9d18112d2fa4d610",
            "b2cb77199f8e4a0580d4be99ceb823d1",
            "f8b487dd1c6248ddb659a0325de0c7aa",
            "1069fc3d31394cae911c0dda31dd5c2b",
            "ada26ecf44a44a84b548aedfe7f10bc1",
            "d727e4352ac341faa3231860a1a4eddb",
            "80d705ee374c4024afc0ef310f037949",
            "9746e17068fe4b57a2a0b95372e74023",
            "2f45e10995bb47b984e6d5d432649ad9",
            "8b96913de6b3435e9b25ddf1fcab6303",
            "1e73eb1482fb4de6922fede03cd287b9",
            "cd29dc7922bb43de8662da50740d0950",
            "eae4323ae22649f9a4ed6fb054acdecf",
            "1beb9113eac04c4eafcc32bcb0f95762",
            "586b39ede6e94d1b883201e9fd4b6c92",
            "8a166f76a23846f0a5cfcb7a61a9cf66",
            "0fb11358ea4c437a865d8f5f35e54336",
            "e64750c7ad2249d9aa99b450275c3f31"
          ]
        },
        "outputId": "0950666b-9adf-441e-e0cf-4b117edcf721"
      },
      "execution_count": null,
      "outputs": [
        {
          "output_type": "display_data",
          "data": {
            "text/plain": [
              "Downloading builder script:   0%|          | 0.00/6.27k [00:00<?, ?B/s]"
            ],
            "application/vnd.jupyter.widget-view+json": {
              "version_major": 2,
              "version_minor": 0,
              "model_id": "a937904ce419477a8bcf79bc0dc528a6"
            }
          },
          "metadata": {}
        },
        {
          "output_type": "display_data",
          "data": {
            "text/plain": [
              "Downloading builder script:   0%|          | 0.00/5.94k [00:00<?, ?B/s]"
            ],
            "application/vnd.jupyter.widget-view+json": {
              "version_major": 2,
              "version_minor": 0,
              "model_id": "6178d229fea04d548c40c077cb8cb0fb"
            }
          },
          "metadata": {}
        },
        {
          "output_type": "display_data",
          "data": {
            "text/plain": [
              "Downloading extra modules:   0%|          | 0.00/1.55k [00:00<?, ?B/s]"
            ],
            "application/vnd.jupyter.widget-view+json": {
              "version_major": 2,
              "version_minor": 0,
              "model_id": "415880ad3fcc40eab724bbc123d56e67"
            }
          },
          "metadata": {}
        },
        {
          "output_type": "display_data",
          "data": {
            "text/plain": [
              "Downloading extra modules:   0%|          | 0.00/3.34k [00:00<?, ?B/s]"
            ],
            "application/vnd.jupyter.widget-view+json": {
              "version_major": 2,
              "version_minor": 0,
              "model_id": "9746e17068fe4b57a2a0b95372e74023"
            }
          },
          "metadata": {}
        }
      ]
    },
    {
      "cell_type": "markdown",
      "source": [
        "## Printing the BLEU scores and ROUGE scores for all the pairs."
      ],
      "metadata": {
        "id": "BXzPEvWum7L7"
      }
    },
    {
      "cell_type": "code",
      "source": [
        "dash_line = '-'.join('' for i in range(200))\n",
        "end_line = '\\n' + '#'.join('' for i in range(200)) + '\\n'\n",
        "for i in range(2):\n",
        "  for j in range(3):\n",
        "    result_bleu = bleu.compute(predictions=predictions[i][j], references=references[i])\n",
        "    result_rouge = rouge.compute(predictions=predictions[i][j], references=references[i])\n",
        "    print('Reference: ', references[i])\n",
        "    print(dash_line)\n",
        "    print('Prediction: ', predictions[i][j])\n",
        "    print(dash_line)\n",
        "    print(f\"BLEU Score: {result_bleu}\")\n",
        "    print(f\"ROUGE Score: {result_rouge}\")\n",
        "    print(end_line)"
      ],
      "metadata": {
        "colab": {
          "base_uri": "https://localhost:8080/"
        },
        "id": "BYJWhZrddj9l",
        "outputId": "4bc5fc23-6133-4b58-c7f1-a75cf5e0c5d0"
      },
      "execution_count": null,
      "outputs": [
        {
          "output_type": "stream",
          "name": "stdout",
          "text": [
            "Reference:  ['A fast brown fox leaps over the sleepy dog.']\n",
            "-------------------------------------------------------------------------------------------------------------------------------------------------------------------------------------------------------\n",
            "Prediction:  ['Quick brown fox jumping over a lazy dog.']\n",
            "-------------------------------------------------------------------------------------------------------------------------------------------------------------------------------------------------------\n",
            "BLEU Score: {'bleu': 0.0, 'precisions': [0.5555555555555556, 0.25, 0.0, 0.0], 'brevity_penalty': 0.8948393168143697, 'length_ratio': 0.9, 'translation_length': 9, 'reference_length': 10}\n",
            "ROUGE Score: {'rouge1': 0.5882352941176471, 'rouge2': 0.13333333333333333, 'rougeL': 0.47058823529411764, 'rougeLsum': 0.47058823529411764}\n",
            "\n",
            "#######################################################################################################################################################################################################\n",
            "\n",
            "Reference:  ['A fast brown fox leaps over the sleepy dog.']\n",
            "-------------------------------------------------------------------------------------------------------------------------------------------------------------------------------------------------------\n",
            "Prediction:  ['A fast brown fox jumps over the sleepy dog.']\n",
            "-------------------------------------------------------------------------------------------------------------------------------------------------------------------------------------------------------\n",
            "BLEU Score: {'bleu': 0.6580370064762462, 'precisions': [0.9, 0.7777777777777778, 0.625, 0.42857142857142855], 'brevity_penalty': 1.0, 'length_ratio': 1.0, 'translation_length': 10, 'reference_length': 10}\n",
            "ROUGE Score: {'rouge1': 0.8888888888888888, 'rouge2': 0.75, 'rougeL': 0.8888888888888888, 'rougeLsum': 0.8888888888888888}\n",
            "\n",
            "#######################################################################################################################################################################################################\n",
            "\n",
            "Reference:  ['A fast brown fox leaps over the sleepy dog.']\n",
            "-------------------------------------------------------------------------------------------------------------------------------------------------------------------------------------------------------\n",
            "Prediction:  ['A fast brown fox leaps over the sleepy dog.']\n",
            "-------------------------------------------------------------------------------------------------------------------------------------------------------------------------------------------------------\n",
            "BLEU Score: {'bleu': 1.0, 'precisions': [1.0, 1.0, 1.0, 1.0], 'brevity_penalty': 1.0, 'length_ratio': 1.0, 'translation_length': 10, 'reference_length': 10}\n",
            "ROUGE Score: {'rouge1': 1.0, 'rouge2': 1.0, 'rougeL': 1.0, 'rougeLsum': 1.0}\n",
            "\n",
            "#######################################################################################################################################################################################################\n",
            "\n",
            "Reference:  ['Artificial intelligence is transforming various industries, including healthcare and finance.']\n",
            "-------------------------------------------------------------------------------------------------------------------------------------------------------------------------------------------------------\n",
            "Prediction:  ['AI is revolutionizing different sectors, like healthcare and finance.']\n",
            "-------------------------------------------------------------------------------------------------------------------------------------------------------------------------------------------------------\n",
            "BLEU Score: {'bleu': 0.23708987804092638, 'precisions': [0.5454545454545454, 0.3, 0.2222222222222222, 0.125], 'brevity_penalty': 0.9131007162822622, 'length_ratio': 0.9166666666666666, 'translation_length': 11, 'reference_length': 12}\n",
            "ROUGE Score: {'rouge1': 0.4210526315789474, 'rouge2': 0.23529411764705882, 'rougeL': 0.4210526315789474, 'rougeLsum': 0.4210526315789474}\n",
            "\n",
            "#######################################################################################################################################################################################################\n",
            "\n",
            "Reference:  ['Artificial intelligence is transforming various industries, including healthcare and finance.']\n",
            "-------------------------------------------------------------------------------------------------------------------------------------------------------------------------------------------------------\n",
            "Prediction:  ['Artificial intelligence is transforming industries such as healthcare and finance.']\n",
            "-------------------------------------------------------------------------------------------------------------------------------------------------------------------------------------------------------\n",
            "BLEU Score: {'bleu': 0.4412739850976205, 'precisions': [0.8181818181818182, 0.6, 0.4444444444444444, 0.25], 'brevity_penalty': 0.9131007162822622, 'length_ratio': 0.9166666666666666, 'translation_length': 11, 'reference_length': 12}\n",
            "ROUGE Score: {'rouge1': 0.8000000000000002, 'rouge2': 0.5555555555555556, 'rougeL': 0.8000000000000002, 'rougeLsum': 0.8000000000000002}\n",
            "\n",
            "#######################################################################################################################################################################################################\n",
            "\n",
            "Reference:  ['Artificial intelligence is transforming various industries, including healthcare and finance.']\n",
            "-------------------------------------------------------------------------------------------------------------------------------------------------------------------------------------------------------\n",
            "Prediction:  ['Artificial intelligence is transforming various industries, including healthcare and finance.']\n",
            "-------------------------------------------------------------------------------------------------------------------------------------------------------------------------------------------------------\n",
            "BLEU Score: {'bleu': 1.0, 'precisions': [1.0, 1.0, 1.0, 1.0], 'brevity_penalty': 1.0, 'length_ratio': 1.0, 'translation_length': 12, 'reference_length': 12}\n",
            "ROUGE Score: {'rouge1': 1.0, 'rouge2': 1.0, 'rougeL': 1.0, 'rougeLsum': 1.0}\n",
            "\n",
            "#######################################################################################################################################################################################################\n",
            "\n"
          ]
        }
      ]
    },
    {
      "cell_type": "code",
      "source": [],
      "metadata": {
        "id": "wwGV-6BahmVx"
      },
      "execution_count": null,
      "outputs": []
    }
  ]
}
